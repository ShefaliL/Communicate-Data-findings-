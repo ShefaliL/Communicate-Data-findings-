{
 "cells": [
  {
   "cell_type": "markdown",
   "metadata": {
    "papermill": {
     "duration": 0.043589,
     "end_time": "2021-06-03T12:33:49.403794",
     "exception": false,
     "start_time": "2021-06-03T12:33:49.360205",
     "status": "completed"
    },
    "tags": []
   },
   "source": [
    "<h1 style = \"font-family: Comic Sans MS;background-color:#ef9c48\t\"> Exploratory Data Analysis - Ford Gobike  </h1>Ford Gobike \n",
    "\n",
    "<img src=\"https://pbs.twimg.com/profile_images/1285189888783060993/p4Rhm7d8_400x400.png\">\n",
    "\n",
    "\n",
    "**By:** Shefali Luley\n",
    "\n",
    "> **Introduction**\n",
    "\n",
    "This notebook is with respect to my final submission for the EDA project. I have used 'ford-go-bike-dataset' in this notebook. I will be choosing a coherent color palette throughout this notebook to keep it appealing to the eyes.\n",
    "\n",
    "* **Ford GoBike** is the Bay Area’s bike share system. Bay Area Bike Share was introduced in 2013. \n",
    "* It services San Francisco, the East Bay and San Jose.\n",
    "* Similar to other bike share systems, Ford GoBike consists of a fleet of bikes that can be unlocked in one station and returned in any other network station. \n",
    "* Thus, this is ideal for one-way trips. \n",
    "* These bikes are available for use thorughout the year and riders have access to all bikes in the network."
   ]
  },
  {
   "cell_type": "code",
   "execution_count": 3,
   "metadata": {
    "execution": {
     "iopub.execute_input": "2021-06-03T12:33:49.505305Z",
     "iopub.status.busy": "2021-06-03T12:33:49.504425Z",
     "iopub.status.idle": "2021-06-03T12:33:51.781886Z",
     "shell.execute_reply": "2021-06-03T12:33:51.782575Z",
     "shell.execute_reply.started": "2021-06-03T11:46:03.030571Z"
    },
    "papermill": {
     "duration": 2.336033,
     "end_time": "2021-06-03T12:33:51.782864",
     "exception": false,
     "start_time": "2021-06-03T12:33:49.446831",
     "status": "completed"
    },
    "tags": []
   },
   "outputs": [],
   "source": [
    "import warnings \n",
    "warnings.filterwarnings('ignore')\n",
    "\n",
    "\n",
    "# import basic packages\n",
    "\n",
    "import os\n",
    "import numpy as np\n",
    "import pandas as pd\n",
    "import missingno as msno\n",
    "\n",
    "#import visualization packages\n",
    "\n",
    "import matplotlib\n",
    "import matplotlib.pyplot as plt\n",
    "import seaborn as sns\n",
    "import plotly.express as px\n",
    "import plotly.graph_objects as go\n",
    "%matplotlib inline\n",
    "import datetime as dt"
   ]
  },
  {
   "cell_type": "markdown",
   "metadata": {
    "papermill": {
     "duration": 0.042723,
     "end_time": "2021-06-03T12:33:51.867912",
     "exception": false,
     "start_time": "2021-06-03T12:33:51.825189",
     "status": "completed"
    },
    "tags": []
   },
   "source": [
    "<h1 style = \"font-family: Comic Sans MS;background-color:#ef9c48\t\"> Data Prepration and Loading</h1>\n"
   ]
  },
  {
   "cell_type": "code",
   "execution_count": 4,
   "metadata": {
    "execution": {
     "iopub.execute_input": "2021-06-03T12:33:51.957031Z",
     "iopub.status.busy": "2021-06-03T12:33:51.956029Z",
     "iopub.status.idle": "2021-06-03T12:33:53.195487Z",
     "shell.execute_reply": "2021-06-03T12:33:53.196124Z",
     "shell.execute_reply.started": "2021-06-03T11:46:03.042223Z"
    },
    "papermill": {
     "duration": 1.285513,
     "end_time": "2021-06-03T12:33:53.196320",
     "exception": false,
     "start_time": "2021-06-03T12:33:51.910807",
     "status": "completed"
    },
    "tags": []
   },
   "outputs": [],
   "source": [
    "# load the 201902-fordgobike-tripdata.csv into a DataFrame\n",
    "df = pd.read_csv('201902-fordgobike-tripdata.csv')"
   ]
  },
  {
   "cell_type": "code",
   "execution_count": 5,
   "metadata": {
    "execution": {
     "iopub.execute_input": "2021-06-03T12:33:53.286421Z",
     "iopub.status.busy": "2021-06-03T12:33:53.285395Z",
     "iopub.status.idle": "2021-06-03T12:33:53.323608Z",
     "shell.execute_reply": "2021-06-03T12:33:53.324193Z",
     "shell.execute_reply.started": "2021-06-03T11:46:03.716846Z"
    },
    "papermill": {
     "duration": 0.084063,
     "end_time": "2021-06-03T12:33:53.324388",
     "exception": false,
     "start_time": "2021-06-03T12:33:53.240325",
     "status": "completed"
    },
    "tags": []
   },
   "outputs": [
    {
     "data": {
      "text/html": [
       "<div>\n",
       "<style scoped>\n",
       "    .dataframe tbody tr th:only-of-type {\n",
       "        vertical-align: middle;\n",
       "    }\n",
       "\n",
       "    .dataframe tbody tr th {\n",
       "        vertical-align: top;\n",
       "    }\n",
       "\n",
       "    .dataframe thead th {\n",
       "        text-align: right;\n",
       "    }\n",
       "</style>\n",
       "<table border=\"1\" class=\"dataframe\">\n",
       "  <thead>\n",
       "    <tr style=\"text-align: right;\">\n",
       "      <th></th>\n",
       "      <th>duration_sec</th>\n",
       "      <th>start_time</th>\n",
       "      <th>end_time</th>\n",
       "      <th>start_station_id</th>\n",
       "      <th>start_station_name</th>\n",
       "      <th>start_station_latitude</th>\n",
       "      <th>start_station_longitude</th>\n",
       "      <th>end_station_id</th>\n",
       "      <th>end_station_name</th>\n",
       "      <th>end_station_latitude</th>\n",
       "      <th>end_station_longitude</th>\n",
       "      <th>bike_id</th>\n",
       "      <th>user_type</th>\n",
       "      <th>member_birth_year</th>\n",
       "      <th>member_gender</th>\n",
       "      <th>bike_share_for_all_trip</th>\n",
       "    </tr>\n",
       "  </thead>\n",
       "  <tbody>\n",
       "    <tr>\n",
       "      <th>0</th>\n",
       "      <td>52185</td>\n",
       "      <td>2019-02-28 17:32:10.1450</td>\n",
       "      <td>2019-03-01 08:01:55.9750</td>\n",
       "      <td>21.0</td>\n",
       "      <td>Montgomery St BART Station (Market St at 2nd St)</td>\n",
       "      <td>37.789625</td>\n",
       "      <td>-122.400811</td>\n",
       "      <td>13.0</td>\n",
       "      <td>Commercial St at Montgomery St</td>\n",
       "      <td>37.794231</td>\n",
       "      <td>-122.402923</td>\n",
       "      <td>4902</td>\n",
       "      <td>Customer</td>\n",
       "      <td>1984.0</td>\n",
       "      <td>Male</td>\n",
       "      <td>No</td>\n",
       "    </tr>\n",
       "    <tr>\n",
       "      <th>1</th>\n",
       "      <td>42521</td>\n",
       "      <td>2019-02-28 18:53:21.7890</td>\n",
       "      <td>2019-03-01 06:42:03.0560</td>\n",
       "      <td>23.0</td>\n",
       "      <td>The Embarcadero at Steuart St</td>\n",
       "      <td>37.791464</td>\n",
       "      <td>-122.391034</td>\n",
       "      <td>81.0</td>\n",
       "      <td>Berry St at 4th St</td>\n",
       "      <td>37.775880</td>\n",
       "      <td>-122.393170</td>\n",
       "      <td>2535</td>\n",
       "      <td>Customer</td>\n",
       "      <td>NaN</td>\n",
       "      <td>NaN</td>\n",
       "      <td>No</td>\n",
       "    </tr>\n",
       "    <tr>\n",
       "      <th>2</th>\n",
       "      <td>61854</td>\n",
       "      <td>2019-02-28 12:13:13.2180</td>\n",
       "      <td>2019-03-01 05:24:08.1460</td>\n",
       "      <td>86.0</td>\n",
       "      <td>Market St at Dolores St</td>\n",
       "      <td>37.769305</td>\n",
       "      <td>-122.426826</td>\n",
       "      <td>3.0</td>\n",
       "      <td>Powell St BART Station (Market St at 4th St)</td>\n",
       "      <td>37.786375</td>\n",
       "      <td>-122.404904</td>\n",
       "      <td>5905</td>\n",
       "      <td>Customer</td>\n",
       "      <td>1972.0</td>\n",
       "      <td>Male</td>\n",
       "      <td>No</td>\n",
       "    </tr>\n",
       "    <tr>\n",
       "      <th>3</th>\n",
       "      <td>36490</td>\n",
       "      <td>2019-02-28 17:54:26.0100</td>\n",
       "      <td>2019-03-01 04:02:36.8420</td>\n",
       "      <td>375.0</td>\n",
       "      <td>Grove St at Masonic Ave</td>\n",
       "      <td>37.774836</td>\n",
       "      <td>-122.446546</td>\n",
       "      <td>70.0</td>\n",
       "      <td>Central Ave at Fell St</td>\n",
       "      <td>37.773311</td>\n",
       "      <td>-122.444293</td>\n",
       "      <td>6638</td>\n",
       "      <td>Subscriber</td>\n",
       "      <td>1989.0</td>\n",
       "      <td>Other</td>\n",
       "      <td>No</td>\n",
       "    </tr>\n",
       "    <tr>\n",
       "      <th>4</th>\n",
       "      <td>1585</td>\n",
       "      <td>2019-02-28 23:54:18.5490</td>\n",
       "      <td>2019-03-01 00:20:44.0740</td>\n",
       "      <td>7.0</td>\n",
       "      <td>Frank H Ogawa Plaza</td>\n",
       "      <td>37.804562</td>\n",
       "      <td>-122.271738</td>\n",
       "      <td>222.0</td>\n",
       "      <td>10th Ave at E 15th St</td>\n",
       "      <td>37.792714</td>\n",
       "      <td>-122.248780</td>\n",
       "      <td>4898</td>\n",
       "      <td>Subscriber</td>\n",
       "      <td>1974.0</td>\n",
       "      <td>Male</td>\n",
       "      <td>Yes</td>\n",
       "    </tr>\n",
       "  </tbody>\n",
       "</table>\n",
       "</div>"
      ],
      "text/plain": [
       "   duration_sec                start_time                  end_time  \\\n",
       "0         52185  2019-02-28 17:32:10.1450  2019-03-01 08:01:55.9750   \n",
       "1         42521  2019-02-28 18:53:21.7890  2019-03-01 06:42:03.0560   \n",
       "2         61854  2019-02-28 12:13:13.2180  2019-03-01 05:24:08.1460   \n",
       "3         36490  2019-02-28 17:54:26.0100  2019-03-01 04:02:36.8420   \n",
       "4          1585  2019-02-28 23:54:18.5490  2019-03-01 00:20:44.0740   \n",
       "\n",
       "   start_station_id                                start_station_name  \\\n",
       "0              21.0  Montgomery St BART Station (Market St at 2nd St)   \n",
       "1              23.0                     The Embarcadero at Steuart St   \n",
       "2              86.0                           Market St at Dolores St   \n",
       "3             375.0                           Grove St at Masonic Ave   \n",
       "4               7.0                               Frank H Ogawa Plaza   \n",
       "\n",
       "   start_station_latitude  start_station_longitude  end_station_id  \\\n",
       "0               37.789625              -122.400811            13.0   \n",
       "1               37.791464              -122.391034            81.0   \n",
       "2               37.769305              -122.426826             3.0   \n",
       "3               37.774836              -122.446546            70.0   \n",
       "4               37.804562              -122.271738           222.0   \n",
       "\n",
       "                               end_station_name  end_station_latitude  \\\n",
       "0                Commercial St at Montgomery St             37.794231   \n",
       "1                            Berry St at 4th St             37.775880   \n",
       "2  Powell St BART Station (Market St at 4th St)             37.786375   \n",
       "3                        Central Ave at Fell St             37.773311   \n",
       "4                         10th Ave at E 15th St             37.792714   \n",
       "\n",
       "   end_station_longitude  bike_id   user_type  member_birth_year  \\\n",
       "0            -122.402923     4902    Customer             1984.0   \n",
       "1            -122.393170     2535    Customer                NaN   \n",
       "2            -122.404904     5905    Customer             1972.0   \n",
       "3            -122.444293     6638  Subscriber             1989.0   \n",
       "4            -122.248780     4898  Subscriber             1974.0   \n",
       "\n",
       "  member_gender bike_share_for_all_trip  \n",
       "0          Male                      No  \n",
       "1           NaN                      No  \n",
       "2          Male                      No  \n",
       "3         Other                      No  \n",
       "4          Male                     Yes  "
      ]
     },
     "execution_count": 5,
     "metadata": {},
     "output_type": "execute_result"
    }
   ],
   "source": [
    "# to analyse the first 5 rows \n",
    "df.head()"
   ]
  },
  {
   "cell_type": "markdown",
   "metadata": {
    "papermill": {
     "duration": 0.043263,
     "end_time": "2021-06-03T12:33:53.411236",
     "exception": false,
     "start_time": "2021-06-03T12:33:53.367973",
     "status": "completed"
    },
    "tags": []
   },
   "source": [
    "<h3 style = \"font-family: Comic Sans MS;background-color:#ef9c48\t\"> Inferences: </h3>\n",
    "\n",
    "* There are a total of **16 columns** in our dataset.\n",
    "* We have been given the start and the end time of the journey, station id and station name as well as the latitude and longitude of starting as well as the ending points."
   ]
  },
  {
   "cell_type": "code",
   "execution_count": 6,
   "metadata": {
    "execution": {
     "iopub.execute_input": "2021-06-03T12:33:53.502494Z",
     "iopub.status.busy": "2021-06-03T12:33:53.501440Z",
     "iopub.status.idle": "2021-06-03T12:33:53.643117Z",
     "shell.execute_reply": "2021-06-03T12:33:53.643620Z",
     "shell.execute_reply.started": "2021-06-03T11:46:03.739367Z"
    },
    "papermill": {
     "duration": 0.188933,
     "end_time": "2021-06-03T12:33:53.643810",
     "exception": false,
     "start_time": "2021-06-03T12:33:53.454877",
     "status": "completed"
    },
    "tags": []
   },
   "outputs": [
    {
     "name": "stdout",
     "output_type": "stream",
     "text": [
      "<class 'pandas.core.frame.DataFrame'>\n",
      "RangeIndex: 183412 entries, 0 to 183411\n",
      "Data columns (total 16 columns):\n",
      " #   Column                   Non-Null Count   Dtype  \n",
      "---  ------                   --------------   -----  \n",
      " 0   duration_sec             183412 non-null  int64  \n",
      " 1   start_time               183412 non-null  object \n",
      " 2   end_time                 183412 non-null  object \n",
      " 3   start_station_id         183215 non-null  float64\n",
      " 4   start_station_name       183215 non-null  object \n",
      " 5   start_station_latitude   183412 non-null  float64\n",
      " 6   start_station_longitude  183412 non-null  float64\n",
      " 7   end_station_id           183215 non-null  float64\n",
      " 8   end_station_name         183215 non-null  object \n",
      " 9   end_station_latitude     183412 non-null  float64\n",
      " 10  end_station_longitude    183412 non-null  float64\n",
      " 11  bike_id                  183412 non-null  int64  \n",
      " 12  user_type                183412 non-null  object \n",
      " 13  member_birth_year        175147 non-null  float64\n",
      " 14  member_gender            175147 non-null  object \n",
      " 15  bike_share_for_all_trip  183412 non-null  object \n",
      "dtypes: float64(7), int64(2), object(7)\n",
      "memory usage: 22.4+ MB\n"
     ]
    }
   ],
   "source": [
    "# to analyze the number of null value present\n",
    "df.info()"
   ]
  },
  {
   "cell_type": "markdown",
   "metadata": {
    "papermill": {
     "duration": 0.043534,
     "end_time": "2021-06-03T12:33:53.731073",
     "exception": false,
     "start_time": "2021-06-03T12:33:53.687539",
     "status": "completed"
    },
    "tags": []
   },
   "source": [
    "<h3 style = \"font-family: Comic Sans MS;background-color:#ef9c48\t\"> Inferences: </h3>\n",
    "\n",
    "* An interesting thing to note here is that, even though the **start** and **end time** should be of **datetime** type, it is currently presented to us as object datatype. We would have to convert it.\n",
    "* We can see that there are a few columns having null values in the dataset.\n",
    "* **member_birth_year** and **member_gender** have a lot of null values. We may choose to drop them later.\n",
    "* We have two types of user type, which is subscriber or customer."
   ]
  },
  {
   "cell_type": "code",
   "execution_count": 7,
   "metadata": {
    "execution": {
     "iopub.execute_input": "2021-06-03T12:33:53.833726Z",
     "iopub.status.busy": "2021-06-03T12:33:53.833011Z",
     "iopub.status.idle": "2021-06-03T12:33:53.949173Z",
     "shell.execute_reply": "2021-06-03T12:33:53.948616Z",
     "shell.execute_reply.started": "2021-06-03T11:46:03.880628Z"
    },
    "papermill": {
     "duration": 0.17426,
     "end_time": "2021-06-03T12:33:53.949339",
     "exception": false,
     "start_time": "2021-06-03T12:33:53.775079",
     "status": "completed"
    },
    "tags": []
   },
   "outputs": [
    {
     "data": {
      "text/html": [
       "<div>\n",
       "<style scoped>\n",
       "    .dataframe tbody tr th:only-of-type {\n",
       "        vertical-align: middle;\n",
       "    }\n",
       "\n",
       "    .dataframe tbody tr th {\n",
       "        vertical-align: top;\n",
       "    }\n",
       "\n",
       "    .dataframe thead th {\n",
       "        text-align: right;\n",
       "    }\n",
       "</style>\n",
       "<table border=\"1\" class=\"dataframe\">\n",
       "  <thead>\n",
       "    <tr style=\"text-align: right;\">\n",
       "      <th></th>\n",
       "      <th>count</th>\n",
       "      <th>mean</th>\n",
       "      <th>std</th>\n",
       "      <th>min</th>\n",
       "      <th>25%</th>\n",
       "      <th>50%</th>\n",
       "      <th>75%</th>\n",
       "      <th>max</th>\n",
       "    </tr>\n",
       "  </thead>\n",
       "  <tbody>\n",
       "    <tr>\n",
       "      <th>duration_sec</th>\n",
       "      <td>183412.0</td>\n",
       "      <td>726.078435</td>\n",
       "      <td>1794.389780</td>\n",
       "      <td>61.000000</td>\n",
       "      <td>325.000000</td>\n",
       "      <td>514.000000</td>\n",
       "      <td>796.000000</td>\n",
       "      <td>85444.000000</td>\n",
       "    </tr>\n",
       "    <tr>\n",
       "      <th>start_station_id</th>\n",
       "      <td>183215.0</td>\n",
       "      <td>138.590427</td>\n",
       "      <td>111.778864</td>\n",
       "      <td>3.000000</td>\n",
       "      <td>47.000000</td>\n",
       "      <td>104.000000</td>\n",
       "      <td>239.000000</td>\n",
       "      <td>398.000000</td>\n",
       "    </tr>\n",
       "    <tr>\n",
       "      <th>start_station_latitude</th>\n",
       "      <td>183412.0</td>\n",
       "      <td>37.771223</td>\n",
       "      <td>0.099581</td>\n",
       "      <td>37.317298</td>\n",
       "      <td>37.770083</td>\n",
       "      <td>37.780760</td>\n",
       "      <td>37.797280</td>\n",
       "      <td>37.880222</td>\n",
       "    </tr>\n",
       "    <tr>\n",
       "      <th>start_station_longitude</th>\n",
       "      <td>183412.0</td>\n",
       "      <td>-122.352664</td>\n",
       "      <td>0.117097</td>\n",
       "      <td>-122.453704</td>\n",
       "      <td>-122.412408</td>\n",
       "      <td>-122.398285</td>\n",
       "      <td>-122.286533</td>\n",
       "      <td>-121.874119</td>\n",
       "    </tr>\n",
       "    <tr>\n",
       "      <th>end_station_id</th>\n",
       "      <td>183215.0</td>\n",
       "      <td>136.249123</td>\n",
       "      <td>111.515131</td>\n",
       "      <td>3.000000</td>\n",
       "      <td>44.000000</td>\n",
       "      <td>100.000000</td>\n",
       "      <td>235.000000</td>\n",
       "      <td>398.000000</td>\n",
       "    </tr>\n",
       "    <tr>\n",
       "      <th>end_station_latitude</th>\n",
       "      <td>183412.0</td>\n",
       "      <td>37.771427</td>\n",
       "      <td>0.099490</td>\n",
       "      <td>37.317298</td>\n",
       "      <td>37.770407</td>\n",
       "      <td>37.781010</td>\n",
       "      <td>37.797320</td>\n",
       "      <td>37.880222</td>\n",
       "    </tr>\n",
       "    <tr>\n",
       "      <th>end_station_longitude</th>\n",
       "      <td>183412.0</td>\n",
       "      <td>-122.352250</td>\n",
       "      <td>0.116673</td>\n",
       "      <td>-122.453704</td>\n",
       "      <td>-122.411726</td>\n",
       "      <td>-122.398279</td>\n",
       "      <td>-122.288045</td>\n",
       "      <td>-121.874119</td>\n",
       "    </tr>\n",
       "    <tr>\n",
       "      <th>bike_id</th>\n",
       "      <td>183412.0</td>\n",
       "      <td>4472.906375</td>\n",
       "      <td>1664.383394</td>\n",
       "      <td>11.000000</td>\n",
       "      <td>3777.000000</td>\n",
       "      <td>4958.000000</td>\n",
       "      <td>5502.000000</td>\n",
       "      <td>6645.000000</td>\n",
       "    </tr>\n",
       "    <tr>\n",
       "      <th>member_birth_year</th>\n",
       "      <td>175147.0</td>\n",
       "      <td>1984.806437</td>\n",
       "      <td>10.116689</td>\n",
       "      <td>1878.000000</td>\n",
       "      <td>1980.000000</td>\n",
       "      <td>1987.000000</td>\n",
       "      <td>1992.000000</td>\n",
       "      <td>2001.000000</td>\n",
       "    </tr>\n",
       "  </tbody>\n",
       "</table>\n",
       "</div>"
      ],
      "text/plain": [
       "                            count         mean          std          min  \\\n",
       "duration_sec             183412.0   726.078435  1794.389780    61.000000   \n",
       "start_station_id         183215.0   138.590427   111.778864     3.000000   \n",
       "start_station_latitude   183412.0    37.771223     0.099581    37.317298   \n",
       "start_station_longitude  183412.0  -122.352664     0.117097  -122.453704   \n",
       "end_station_id           183215.0   136.249123   111.515131     3.000000   \n",
       "end_station_latitude     183412.0    37.771427     0.099490    37.317298   \n",
       "end_station_longitude    183412.0  -122.352250     0.116673  -122.453704   \n",
       "bike_id                  183412.0  4472.906375  1664.383394    11.000000   \n",
       "member_birth_year        175147.0  1984.806437    10.116689  1878.000000   \n",
       "\n",
       "                                 25%          50%          75%           max  \n",
       "duration_sec              325.000000   514.000000   796.000000  85444.000000  \n",
       "start_station_id           47.000000   104.000000   239.000000    398.000000  \n",
       "start_station_latitude     37.770083    37.780760    37.797280     37.880222  \n",
       "start_station_longitude  -122.412408  -122.398285  -122.286533   -121.874119  \n",
       "end_station_id             44.000000   100.000000   235.000000    398.000000  \n",
       "end_station_latitude       37.770407    37.781010    37.797320     37.880222  \n",
       "end_station_longitude    -122.411726  -122.398279  -122.288045   -121.874119  \n",
       "bike_id                  3777.000000  4958.000000  5502.000000   6645.000000  \n",
       "member_birth_year        1980.000000  1987.000000  1992.000000   2001.000000  "
      ]
     },
     "execution_count": 7,
     "metadata": {},
     "output_type": "execute_result"
    }
   ],
   "source": [
    "#The transpose() function is used to transpose index and columns\n",
    "#the DataFrame over its main diagonal by writing rows as columns and vice-versa\n",
    "df.describe().T"
   ]
  },
  {
   "cell_type": "code",
   "execution_count": 8,
   "metadata": {
    "execution": {
     "iopub.execute_input": "2021-06-03T12:33:54.042233Z",
     "iopub.status.busy": "2021-06-03T12:33:54.041604Z",
     "iopub.status.idle": "2021-06-03T12:33:55.500774Z",
     "shell.execute_reply": "2021-06-03T12:33:55.499807Z",
     "shell.execute_reply.started": "2021-06-03T11:46:03.995062Z"
    },
    "papermill": {
     "duration": 1.507447,
     "end_time": "2021-06-03T12:33:55.500925",
     "exception": false,
     "start_time": "2021-06-03T12:33:53.993478",
     "status": "completed"
    },
    "tags": []
   },
   "outputs": [
    {
     "data": {
      "text/plain": [
       "<AxesSubplot:>"
      ]
     },
     "execution_count": 8,
     "metadata": {},
     "output_type": "execute_result"
    },
    {
     "data": {
      "image/png": "[encoded data removed]",
      "text/plain": [
       "<Figure size 1800x720 with 2 Axes>"
      ]
     },
     "metadata": {
      "needs_background": "light"
     },
     "output_type": "display_data"
    }
   ],
   "source": [
    "#Visualizing Missing values\n",
    "msno.matrix(df)"
   ]
  },
  {
   "cell_type": "markdown",
   "metadata": {
    "papermill": {
     "duration": 0.046275,
     "end_time": "2021-06-03T12:33:55.594181",
     "exception": false,
     "start_time": "2021-06-03T12:33:55.547906",
     "status": "completed"
    },
    "tags": []
   },
   "source": [
    "<h3 style = \"font-family: Comic Sans MS;background-color:#ef9c48\t\"> Inferences: </h3>\n",
    "\n",
    "* An interesting thing to note here is that, since the dataset contains too rows, we are unable to visualise those columns which have very few null values.\n",
    "* However, we have seen above that there are a few columns having null values.\n",
    "* We can see that **member_gender** and **member_birth_year** has same rows for missing values. We have confirmed the same in the two coding cells below."
   ]
  },
  {
   "cell_type": "code",
   "execution_count": 9,
   "metadata": {
    "execution": {
     "iopub.execute_input": "2021-06-03T12:33:55.693280Z",
     "iopub.status.busy": "2021-06-03T12:33:55.692556Z",
     "iopub.status.idle": "2021-06-03T12:33:55.698199Z",
     "shell.execute_reply": "2021-06-03T12:33:55.698810Z",
     "shell.execute_reply.started": "2021-06-03T11:46:05.407088Z"
    },
    "papermill": {
     "duration": 0.058199,
     "end_time": "2021-06-03T12:33:55.698987",
     "exception": false,
     "start_time": "2021-06-03T12:33:55.640788",
     "status": "completed"
    },
    "tags": []
   },
   "outputs": [
    {
     "name": "stdout",
     "output_type": "stream",
     "text": [
      "\n"
     ]
    },
    {
     "data": {
      "text/plain": [
       "4.718893272508236"
      ]
     },
     "execution_count": 9,
     "metadata": {},
     "output_type": "execute_result"
    }
   ],
   "source": [
    "print()\n",
    "(df['member_birth_year'].isnull().sum()/df['member_birth_year'].count()) *100"
   ]
  },
  {
   "cell_type": "code",
   "execution_count": 10,
   "metadata": {
    "execution": {
     "iopub.execute_input": "2021-06-03T12:33:55.796399Z",
     "iopub.status.busy": "2021-06-03T12:33:55.795736Z",
     "iopub.status.idle": "2021-06-03T12:33:55.843029Z",
     "shell.execute_reply": "2021-06-03T12:33:55.843755Z",
     "shell.execute_reply.started": "2021-06-03T11:46:05.417227Z"
    },
    "papermill": {
     "duration": 0.097879,
     "end_time": "2021-06-03T12:33:55.844018",
     "exception": false,
     "start_time": "2021-06-03T12:33:55.746139",
     "status": "completed"
    },
    "tags": []
   },
   "outputs": [
    {
     "name": "stdout",
     "output_type": "stream",
     "text": [
      "\n"
     ]
    },
    {
     "data": {
      "text/plain": [
       "4.718893272508236"
      ]
     },
     "execution_count": 10,
     "metadata": {},
     "output_type": "execute_result"
    }
   ],
   "source": [
    "print()\n",
    "(df['member_gender'].isnull().sum()/df['member_gender'].count()) *100"
   ]
  },
  {
   "cell_type": "code",
   "execution_count": 11,
   "metadata": {
    "execution": {
     "iopub.execute_input": "2021-06-03T12:33:55.948171Z",
     "iopub.status.busy": "2021-06-03T12:33:55.947516Z",
     "iopub.status.idle": "2021-06-03T12:33:59.365788Z",
     "shell.execute_reply": "2021-06-03T12:33:59.366337Z",
     "shell.execute_reply.started": "2021-06-03T12:02:09.654246Z"
    },
    "papermill": {
     "duration": 3.473811,
     "end_time": "2021-06-03T12:33:59.366528",
     "exception": false,
     "start_time": "2021-06-03T12:33:55.892717",
     "status": "completed"
    },
    "tags": []
   },
   "outputs": [
    {
     "data": {
      "text/plain": [
       "Text(0.5, 1.0, 'Missing Values Heatmap')"
      ]
     },
     "execution_count": 11,
     "metadata": {},
     "output_type": "execute_result"
    },
    {
     "data": {
      "image/png": "[encoded data removed]",
      "text/plain": [
       "<Figure size 864x576 with 2 Axes>"
      ]
     },
     "metadata": {
      "needs_background": "light"
     },
     "output_type": "display_data"
    }
   ],
   "source": [
    "plt.figure(figsize=(12, 8))\n",
    "sns.heatmap(df.isnull())\n",
    "plt.title(\"Missing Values Heatmap\", fontweight = 'bold', fontsize = 16)"
   ]
  },
  {
   "cell_type": "code",
   "execution_count": 12,
   "metadata": {
    "execution": {
     "iopub.execute_input": "2021-06-03T12:33:59.475360Z",
     "iopub.status.busy": "2021-06-03T12:33:59.474622Z",
     "iopub.status.idle": "2021-06-03T12:33:59.633328Z",
     "shell.execute_reply": "2021-06-03T12:33:59.632618Z",
     "shell.execute_reply.started": "2021-06-03T11:46:08.429731Z"
    },
    "papermill": {
     "duration": 0.215261,
     "end_time": "2021-06-03T12:33:59.633473",
     "exception": false,
     "start_time": "2021-06-03T12:33:59.418212",
     "status": "completed"
    },
    "tags": []
   },
   "outputs": [],
   "source": [
    "df = df.dropna()"
   ]
  },
  {
   "cell_type": "markdown",
   "metadata": {
    "papermill": {
     "duration": 0.052135,
     "end_time": "2021-06-03T12:33:59.737234",
     "exception": false,
     "start_time": "2021-06-03T12:33:59.685099",
     "status": "completed"
    },
    "tags": []
   },
   "source": [
    "<h3 style = \"font-family: Comic Sans MS;background-color:#ef9c48\t\"> Inferences: </h3>\n",
    "\n",
    "* Since we're not sure of how to deal with missing values individually, and there are less than **5%** of missing rows, we have decided to drop them directly instead of performing any **imputations**."
   ]
  },
  {
   "cell_type": "code",
   "execution_count": 13,
   "metadata": {
    "execution": {
     "iopub.execute_input": "2021-06-03T12:33:59.847600Z",
     "iopub.status.busy": "2021-06-03T12:33:59.846614Z",
     "iopub.status.idle": "2021-06-03T12:33:59.974007Z",
     "shell.execute_reply": "2021-06-03T12:33:59.974555Z",
     "shell.execute_reply.started": "2021-06-03T11:46:08.569950Z"
    },
    "papermill": {
     "duration": 0.184535,
     "end_time": "2021-06-03T12:33:59.974733",
     "exception": false,
     "start_time": "2021-06-03T12:33:59.790198",
     "status": "completed"
    },
    "tags": []
   },
   "outputs": [
    {
     "name": "stdout",
     "output_type": "stream",
     "text": [
      "<class 'pandas.core.frame.DataFrame'>\n",
      "Int64Index: 174952 entries, 0 to 183411\n",
      "Data columns (total 16 columns):\n",
      " #   Column                   Non-Null Count   Dtype  \n",
      "---  ------                   --------------   -----  \n",
      " 0   duration_sec             174952 non-null  int64  \n",
      " 1   start_time               174952 non-null  object \n",
      " 2   end_time                 174952 non-null  object \n",
      " 3   start_station_id         174952 non-null  float64\n",
      " 4   start_station_name       174952 non-null  object \n",
      " 5   start_station_latitude   174952 non-null  float64\n",
      " 6   start_station_longitude  174952 non-null  float64\n",
      " 7   end_station_id           174952 non-null  float64\n",
      " 8   end_station_name         174952 non-null  object \n",
      " 9   end_station_latitude     174952 non-null  float64\n",
      " 10  end_station_longitude    174952 non-null  float64\n",
      " 11  bike_id                  174952 non-null  int64  \n",
      " 12  user_type                174952 non-null  object \n",
      " 13  member_birth_year        174952 non-null  float64\n",
      " 14  member_gender            174952 non-null  object \n",
      " 15  bike_share_for_all_trip  174952 non-null  object \n",
      "dtypes: float64(7), int64(2), object(7)\n",
      "memory usage: 22.7+ MB\n"
     ]
    }
   ],
   "source": [
    "df.info()"
   ]
  },
  {
   "cell_type": "markdown",
   "metadata": {},
   "source": [
    "## Univariate Exploration\n",
    "\n",
    "> In this section, we investigate distributions of individual variables. \n",
    "If we see unusual points or outliers,  we take a deeper look to clean things up\n",
    "and prepare  it to look at relationships between variables."
   ]
  },
  {
   "cell_type": "markdown",
   "metadata": {},
   "source": [
    "**How is the distribution of gender in the dataset?**"
   ]
  },
  {
   "cell_type": "code",
   "execution_count": 14,
   "metadata": {
    "execution": {
     "iopub.execute_input": "2021-06-03T12:34:00.083582Z",
     "iopub.status.busy": "2021-06-03T12:34:00.082878Z",
     "iopub.status.idle": "2021-06-03T12:34:00.437844Z",
     "shell.execute_reply": "2021-06-03T12:34:00.437185Z",
     "shell.execute_reply.started": "2021-06-03T12:23:59.441988Z"
    },
    "papermill": {
     "duration": 0.409845,
     "end_time": "2021-06-03T12:34:00.437980",
     "exception": false,
     "start_time": "2021-06-03T12:34:00.028135",
     "status": "completed"
    },
    "tags": []
   },
   "outputs": [
    {
     "name": "stdout",
     "output_type": "stream",
     "text": [
      "Male      130500\n",
      "Female     40805\n",
      "Other       3647\n",
      "Name: member_gender, dtype: int64\n"
     ]
    },
    {
     "data": {
      "text/plain": [
       "Text(0.5, 1.0, 'Different gender distribution in the dataset')"
      ]
     },
     "execution_count": 14,
     "metadata": {},
     "output_type": "execute_result"
    },
    {
     "data": {
      "image/png": "[encoded data removed]",
      "text/plain": [
       "<Figure size 432x288 with 1 Axes>"
      ]
     },
     "metadata": {
      "needs_background": "light"
     },
     "output_type": "display_data"
    }
   ],
   "source": [
    "print(df['member_gender'].value_counts())\n",
    "sns.countplot(df['member_gender'], palette = 'Oranges')\n",
    "plt.title(\"Different gender distribution in the dataset\", fontweight = 'bold', fontsize = 16)"
   ]
  },
  {
   "cell_type": "markdown",
   "metadata": {
    "papermill": {
     "duration": 0.05281,
     "end_time": "2021-06-03T12:34:00.544820",
     "exception": false,
     "start_time": "2021-06-03T12:34:00.492010",
     "status": "completed"
    },
    "tags": []
   },
   "source": [
    "<h3 style = \"font-family: Comic Sans MS;background-color:#ef9c48\t\"> Inferences: </h3>\n",
    "\n",
    "* The number of **males** is the highest.\n",
    "* Number of **females** renting a bike is less than 50% than the number of **males**.\n",
    "* The count of **other** is almost negligible compared to the other two. "
   ]
  },
  {
   "cell_type": "markdown",
   "metadata": {},
   "source": [
    "**Check whether the bike is shared for all the trips or not?**"
   ]
  },
  {
   "cell_type": "code",
   "execution_count": 15,
   "metadata": {
    "execution": {
     "iopub.execute_input": "2021-06-03T12:34:00.681232Z",
     "iopub.status.busy": "2021-06-03T12:34:00.680360Z",
     "iopub.status.idle": "2021-06-03T12:34:01.030990Z",
     "shell.execute_reply": "2021-06-03T12:34:01.030407Z",
     "shell.execute_reply.started": "2021-06-03T12:25:16.075866Z"
    },
    "papermill": {
     "duration": 0.432964,
     "end_time": "2021-06-03T12:34:01.031143",
     "exception": false,
     "start_time": "2021-06-03T12:34:00.598179",
     "status": "completed"
    },
    "tags": []
   },
   "outputs": [
    {
     "name": "stdout",
     "output_type": "stream",
     "text": [
      "No     157606\n",
      "Yes     17346\n",
      "Name: bike_share_for_all_trip, dtype: int64\n"
     ]
    },
    {
     "data": {
      "text/plain": [
       "Text(0.5, 1.0, 'Whether bike is shared for all trips or not (YES/ NO)')"
      ]
     },
     "execution_count": 15,
     "metadata": {},
     "output_type": "execute_result"
    },
    {
     "data": {
      "image/png": "[encoded data removed]",
      "text/plain": [
       "<Figure size 432x288 with 1 Axes>"
      ]
     },
     "metadata": {
      "needs_background": "light"
     },
     "output_type": "display_data"
    }
   ],
   "source": [
    "print(df['bike_share_for_all_trip'].value_counts())\n",
    "sns.countplot(df['bike_share_for_all_trip'], palette = 'Oranges')\n",
    "plt.title(\"Whether bike is shared for all trips or not (YES/ NO)\", fontweight = 'bold', fontsize = 16)"
   ]
  },
  {
   "cell_type": "markdown",
   "metadata": {},
   "source": [
    "<h3 style = \"font-family: Comic Sans MS;background-color:#ef9c48\t\"> Inferences: </h3>\n",
    "    \n",
    "**The bike is hardly shared for all the trips**"
   ]
  },
  {
   "cell_type": "code",
   "execution_count": 16,
   "metadata": {
    "execution": {
     "iopub.execute_input": "2021-06-03T12:34:01.154055Z",
     "iopub.status.busy": "2021-06-03T12:34:01.146720Z",
     "iopub.status.idle": "2021-06-03T12:34:01.383572Z",
     "shell.execute_reply": "2021-06-03T12:34:01.382948Z",
     "shell.execute_reply.started": "2021-06-03T11:46:09.372222Z"
    },
    "papermill": {
     "duration": 0.296795,
     "end_time": "2021-06-03T12:34:01.383710",
     "exception": false,
     "start_time": "2021-06-03T12:34:01.086915",
     "status": "completed"
    },
    "tags": []
   },
   "outputs": [],
   "source": [
    "df['member_birth_year'] = df['member_birth_year'].apply(np.int64)\n",
    "#df['age'] = 2021 - df['member_birth_year']"
   ]
  },
  {
   "cell_type": "markdown",
   "metadata": {
    "papermill": {
     "duration": 0.054099,
     "end_time": "2021-06-03T12:34:01.491896",
     "exception": false,
     "start_time": "2021-06-03T12:34:01.437797",
     "status": "completed"
    },
    "tags": []
   },
   "source": [
    "<h3 style = \"font-family: Comic Sans MS;background-color:#ef9c48\t\"> Inferences: </h3>\n",
    "\n",
    "* We have converted the **member_birth_year** into integer to perform the mathematical operations and calculate the age of different **user_types**."
   ]
  },
  {
   "cell_type": "markdown",
   "metadata": {},
   "source": [
    "## Bivariate Exploration\n",
    "\n",
    "> In this section, we investigate relationships between pairs of variables in the\n",
    "data. "
   ]
  },
  {
   "cell_type": "markdown",
   "metadata": {},
   "source": [
    "**Identifying the data age ranges with respect to gender?**"
   ]
  },
  {
   "cell_type": "code",
   "execution_count": 17,
   "metadata": {
    "execution": {
     "iopub.execute_input": "2021-06-03T12:34:01.606657Z",
     "iopub.status.busy": "2021-06-03T12:34:01.605835Z",
     "iopub.status.idle": "2021-06-03T12:34:01.610422Z",
     "shell.execute_reply": "2021-06-03T12:34:01.609906Z",
     "shell.execute_reply.started": "2021-06-03T11:46:09.615507Z"
    },
    "papermill": {
     "duration": 0.063976,
     "end_time": "2021-06-03T12:34:01.610561",
     "exception": false,
     "start_time": "2021-06-03T12:34:01.546585",
     "status": "completed"
    },
    "tags": []
   },
   "outputs": [],
   "source": [
    "df['age'] = 2021 - df['member_birth_year']"
   ]
  },
  {
   "cell_type": "code",
   "execution_count": 18,
   "metadata": {
    "execution": {
     "iopub.execute_input": "2021-06-03T12:34:01.723754Z",
     "iopub.status.busy": "2021-06-03T12:34:01.723017Z",
     "iopub.status.idle": "2021-06-03T12:34:03.501164Z",
     "shell.execute_reply": "2021-06-03T12:34:03.501951Z",
     "shell.execute_reply.started": "2021-06-03T12:26:07.458744Z"
    },
    "papermill": {
     "duration": 1.839001,
     "end_time": "2021-06-03T12:34:03.502183",
     "exception": false,
     "start_time": "2021-06-03T12:34:01.663182",
     "status": "completed"
    },
    "tags": []
   },
   "outputs": [
    {
     "data": {
      "text/plain": [
       "Text(0.5, 1.0, 'Age groups with respect to different genders ')"
      ]
     },
     "execution_count": 18,
     "metadata": {},
     "output_type": "execute_result"
    },
    {
     "data": {
      "image/png": "[encoded data removed]",
      "text/plain": [
       "<Figure size 1080x720 with 1 Axes>"
      ]
     },
     "metadata": {
      "needs_background": "light"
     },
     "output_type": "display_data"
    }
   ],
   "source": [
    "plt.figure(figsize=(15,10))\n",
    "sns.countplot(df['age'], hue = df['member_gender'], palette = 'Oranges')\n",
    "df['age'].value_counts()\n",
    "plt.title(\"Age groups with respect to different genders \", fontweight = 'bold', fontsize = 16)"
   ]
  },
  {
   "cell_type": "markdown",
   "metadata": {
    "papermill": {
     "duration": 0.054125,
     "end_time": "2021-06-03T12:34:03.614508",
     "exception": false,
     "start_time": "2021-06-03T12:34:03.560383",
     "status": "completed"
    },
    "tags": []
   },
   "source": [
    "<h3 style = \"font-family: Comic Sans MS;background-color:#ef9c48\t\"> Inferences: </h3>\n",
    "\n",
    "* From the graph above, we can see that there are ages ranging from **20** to **143 years old**.\n",
    "* We will be making an assumption that people above the age of 100 years are **outliers**.\n",
    "* Thus, we would be removing the rows directly where the age is above **100**\n",
    ". "
   ]
  },
  {
   "cell_type": "code",
   "execution_count": 21,
   "metadata": {
    "execution": {
     "iopub.execute_input": "2021-06-03T12:34:03.731705Z",
     "iopub.status.busy": "2021-06-03T12:34:03.731027Z",
     "iopub.status.idle": "2021-06-03T12:34:03.732747Z",
     "shell.execute_reply": "2021-06-03T12:34:03.733352Z",
     "shell.execute_reply.started": "2021-06-03T11:46:11.331563Z"
    },
    "papermill": {
     "duration": 0.062747,
     "end_time": "2021-06-03T12:34:03.733526",
     "exception": false,
     "start_time": "2021-06-03T12:34:03.670779",
     "status": "completed"
    },
    "tags": []
   },
   "outputs": [],
   "source": [
    "def age_group(x):\n",
    "    \"\"\"Return x of the age_group.\"\"\"\n",
    "    if (x>=20 and x<30):\n",
    "        return \"20-30\"\n",
    "    if (x>=30 and x<40):\n",
    "        return \"30-40\"\n",
    "    if (x>=40 and x<50):\n",
    "        return \"40-50\"\n",
    "    elif (x>=50 and x<60):\n",
    "        return \"50-60\"\n",
    "    else:\n",
    "        return \"Above 60\""
   ]
  },
  {
   "cell_type": "markdown",
   "metadata": {
    "papermill": {
     "duration": 0.054832,
     "end_time": "2021-06-03T12:34:03.842314",
     "exception": false,
     "start_time": "2021-06-03T12:34:03.787482",
     "status": "completed"
    },
    "tags": []
   },
   "source": [
    "<h3 style = \"font-family: Comic Sans MS;background-color:#ef9c48\t\"> Inferences: </h3>\n",
    "\n",
    "* Since we could not derive any insightful information from the graph above, we have decided to group the ages into categories of 10 values each.\n",
    "* We will not visualize the data again."
   ]
  },
  {
   "cell_type": "code",
   "execution_count": 22,
   "metadata": {
    "execution": {
     "iopub.execute_input": "2021-06-03T12:34:03.955551Z",
     "iopub.status.busy": "2021-06-03T12:34:03.954813Z",
     "iopub.status.idle": "2021-06-03T12:34:04.043680Z",
     "shell.execute_reply": "2021-06-03T12:34:04.044229Z",
     "shell.execute_reply.started": "2021-06-03T11:46:11.338158Z"
    },
    "papermill": {
     "duration": 0.147815,
     "end_time": "2021-06-03T12:34:04.044424",
     "exception": false,
     "start_time": "2021-06-03T12:34:03.896609",
     "status": "completed"
    },
    "tags": []
   },
   "outputs": [],
   "source": [
    "df['age_slab'] = df['age'].apply(lambda x: age_group(x))"
   ]
  },
  {
   "cell_type": "code",
   "execution_count": 23,
   "metadata": {
    "execution": {
     "iopub.execute_input": "2021-06-03T12:34:04.155722Z",
     "iopub.status.busy": "2021-06-03T12:34:04.155029Z",
     "iopub.status.idle": "2021-06-03T12:34:04.198447Z",
     "shell.execute_reply": "2021-06-03T12:34:04.197725Z",
     "shell.execute_reply.started": "2021-06-03T11:46:11.439504Z"
    },
    "papermill": {
     "duration": 0.100145,
     "end_time": "2021-06-03T12:34:04.198589",
     "exception": false,
     "start_time": "2021-06-03T12:34:04.098444",
     "status": "completed"
    },
    "tags": []
   },
   "outputs": [
    {
     "data": {
      "text/plain": [
       "30-40       76788\n",
       "20-30       48176\n",
       "40-50       30207\n",
       "50-60       14000\n",
       "Above 60     5781\n",
       "Name: age_slab, dtype: int64"
      ]
     },
     "execution_count": 23,
     "metadata": {},
     "output_type": "execute_result"
    }
   ],
   "source": [
    "df['age_slab'].value_counts()"
   ]
  },
  {
   "cell_type": "code",
   "execution_count": 24,
   "metadata": {
    "execution": {
     "iopub.execute_input": "2021-06-03T12:34:04.381132Z",
     "iopub.status.busy": "2021-06-03T12:34:04.368706Z",
     "iopub.status.idle": "2021-06-03T12:34:04.917772Z",
     "shell.execute_reply": "2021-06-03T12:34:04.917033Z",
     "shell.execute_reply.started": "2021-06-03T11:46:11.484354Z"
    },
    "papermill": {
     "duration": 0.66465,
     "end_time": "2021-06-03T12:34:04.917969",
     "exception": false,
     "start_time": "2021-06-03T12:34:04.253319",
     "status": "completed"
    },
    "tags": []
   },
   "outputs": [
    {
     "data": {
      "text/plain": [
       "<AxesSubplot:xlabel='age_slab', ylabel='count'>"
      ]
     },
     "execution_count": 24,
     "metadata": {},
     "output_type": "execute_result"
    },
    {
     "data": {
      "image/png": "[encoded data removed]",
      "text/plain": [
       "<Figure size 1080x720 with 1 Axes>"
      ]
     },
     "metadata": {
      "needs_background": "light"
     },
     "output_type": "display_data"
    }
   ],
   "source": [
    "plt.figure(figsize=(15,10))\n",
    "k=['20-30','30-40','40-50','50-60','Above 60']\n",
    "df['age_slab']= sorted(df['age_slab'], key=k.index)\n",
    "sns.countplot(df['age_slab'], hue = df['member_gender'], palette = 'Oranges')"
   ]
  },
  {
   "cell_type": "code",
   "execution_count": 25,
   "metadata": {
    "execution": {
     "iopub.execute_input": "2021-06-03T12:34:05.096135Z",
     "iopub.status.busy": "2021-06-03T12:34:05.094170Z",
     "iopub.status.idle": "2021-06-03T12:34:05.242416Z",
     "shell.execute_reply": "2021-06-03T12:34:05.241838Z",
     "shell.execute_reply.started": "2021-06-03T11:46:12.099148Z"
    },
    "papermill": {
     "duration": 0.267083,
     "end_time": "2021-06-03T12:34:05.242566",
     "exception": false,
     "start_time": "2021-06-03T12:34:04.975483",
     "status": "completed"
    },
    "tags": []
   },
   "outputs": [],
   "source": [
    "df['start_time'] = pd.to_datetime(df['start_time'])\n",
    "df['end_time'] = pd.to_datetime(df['end_time'])\n",
    "df = df.sort_values(by='start_time')"
   ]
  },
  {
   "cell_type": "code",
   "execution_count": 26,
   "metadata": {
    "execution": {
     "iopub.execute_input": "2021-06-03T12:34:05.376881Z",
     "iopub.status.busy": "2021-06-03T12:34:05.375975Z",
     "iopub.status.idle": "2021-06-03T12:34:05.380619Z",
     "shell.execute_reply": "2021-06-03T12:34:05.380127Z",
     "shell.execute_reply.started": "2021-06-03T11:46:12.288866Z"
    },
    "papermill": {
     "duration": 0.082408,
     "end_time": "2021-06-03T12:34:05.380753",
     "exception": false,
     "start_time": "2021-06-03T12:34:05.298345",
     "status": "completed"
    },
    "tags": []
   },
   "outputs": [
    {
     "data": {
      "text/html": [
       "<div>\n",
       "<style scoped>\n",
       "    .dataframe tbody tr th:only-of-type {\n",
       "        vertical-align: middle;\n",
       "    }\n",
       "\n",
       "    .dataframe tbody tr th {\n",
       "        vertical-align: top;\n",
       "    }\n",
       "\n",
       "    .dataframe thead th {\n",
       "        text-align: right;\n",
       "    }\n",
       "</style>\n",
       "<table border=\"1\" class=\"dataframe\">\n",
       "  <thead>\n",
       "    <tr style=\"text-align: right;\">\n",
       "      <th></th>\n",
       "      <th>duration_sec</th>\n",
       "      <th>start_time</th>\n",
       "      <th>end_time</th>\n",
       "      <th>start_station_id</th>\n",
       "      <th>start_station_name</th>\n",
       "      <th>start_station_latitude</th>\n",
       "      <th>start_station_longitude</th>\n",
       "      <th>end_station_id</th>\n",
       "      <th>end_station_name</th>\n",
       "      <th>end_station_latitude</th>\n",
       "      <th>end_station_longitude</th>\n",
       "      <th>bike_id</th>\n",
       "      <th>user_type</th>\n",
       "      <th>member_birth_year</th>\n",
       "      <th>member_gender</th>\n",
       "      <th>bike_share_for_all_trip</th>\n",
       "      <th>age</th>\n",
       "      <th>age_slab</th>\n",
       "    </tr>\n",
       "  </thead>\n",
       "  <tbody>\n",
       "    <tr>\n",
       "      <th>183411</th>\n",
       "      <td>271</td>\n",
       "      <td>2019-02-01 00:00:20.636</td>\n",
       "      <td>2019-02-01 00:04:52.058</td>\n",
       "      <td>24.0</td>\n",
       "      <td>Spear St at Folsom St</td>\n",
       "      <td>37.789677</td>\n",
       "      <td>-122.390428</td>\n",
       "      <td>37.0</td>\n",
       "      <td>2nd St at Folsom St</td>\n",
       "      <td>37.785000</td>\n",
       "      <td>-122.395936</td>\n",
       "      <td>1057</td>\n",
       "      <td>Subscriber</td>\n",
       "      <td>1989</td>\n",
       "      <td>Male</td>\n",
       "      <td>No</td>\n",
       "      <td>32</td>\n",
       "      <td>Above 60</td>\n",
       "    </tr>\n",
       "    <tr>\n",
       "      <th>183406</th>\n",
       "      <td>706</td>\n",
       "      <td>2019-02-01 00:04:40.616</td>\n",
       "      <td>2019-02-01 00:16:27.080</td>\n",
       "      <td>138.0</td>\n",
       "      <td>Jersey St at Church St</td>\n",
       "      <td>37.750900</td>\n",
       "      <td>-122.427411</td>\n",
       "      <td>78.0</td>\n",
       "      <td>Folsom St at 9th St</td>\n",
       "      <td>37.773717</td>\n",
       "      <td>-122.411647</td>\n",
       "      <td>5017</td>\n",
       "      <td>Subscriber</td>\n",
       "      <td>1988</td>\n",
       "      <td>Male</td>\n",
       "      <td>No</td>\n",
       "      <td>33</td>\n",
       "      <td>Above 60</td>\n",
       "    </tr>\n",
       "    <tr>\n",
       "      <th>183407</th>\n",
       "      <td>480</td>\n",
       "      <td>2019-02-01 00:04:49.724</td>\n",
       "      <td>2019-02-01 00:12:50.034</td>\n",
       "      <td>27.0</td>\n",
       "      <td>Beale St at Harrison St</td>\n",
       "      <td>37.788059</td>\n",
       "      <td>-122.391865</td>\n",
       "      <td>324.0</td>\n",
       "      <td>Union Square (Powell St at Post St)</td>\n",
       "      <td>37.788300</td>\n",
       "      <td>-122.408531</td>\n",
       "      <td>4832</td>\n",
       "      <td>Subscriber</td>\n",
       "      <td>1996</td>\n",
       "      <td>Male</td>\n",
       "      <td>No</td>\n",
       "      <td>25</td>\n",
       "      <td>Above 60</td>\n",
       "    </tr>\n",
       "    <tr>\n",
       "      <th>183410</th>\n",
       "      <td>139</td>\n",
       "      <td>2019-02-01 00:05:34.360</td>\n",
       "      <td>2019-02-01 00:07:54.287</td>\n",
       "      <td>220.0</td>\n",
       "      <td>San Pablo Ave at MLK Jr Way</td>\n",
       "      <td>37.811351</td>\n",
       "      <td>-122.273422</td>\n",
       "      <td>216.0</td>\n",
       "      <td>San Pablo Ave at 27th St</td>\n",
       "      <td>37.817827</td>\n",
       "      <td>-122.275698</td>\n",
       "      <td>5095</td>\n",
       "      <td>Subscriber</td>\n",
       "      <td>1988</td>\n",
       "      <td>Male</td>\n",
       "      <td>No</td>\n",
       "      <td>33</td>\n",
       "      <td>Above 60</td>\n",
       "    </tr>\n",
       "    <tr>\n",
       "      <th>183408</th>\n",
       "      <td>313</td>\n",
       "      <td>2019-02-01 00:05:34.744</td>\n",
       "      <td>2019-02-01 00:10:48.502</td>\n",
       "      <td>21.0</td>\n",
       "      <td>Montgomery St BART Station (Market St at 2nd St)</td>\n",
       "      <td>37.789625</td>\n",
       "      <td>-122.400811</td>\n",
       "      <td>66.0</td>\n",
       "      <td>3rd St at Townsend St</td>\n",
       "      <td>37.778742</td>\n",
       "      <td>-122.392741</td>\n",
       "      <td>4960</td>\n",
       "      <td>Subscriber</td>\n",
       "      <td>1984</td>\n",
       "      <td>Male</td>\n",
       "      <td>No</td>\n",
       "      <td>37</td>\n",
       "      <td>Above 60</td>\n",
       "    </tr>\n",
       "  </tbody>\n",
       "</table>\n",
       "</div>"
      ],
      "text/plain": [
       "        duration_sec              start_time                end_time  \\\n",
       "183411           271 2019-02-01 00:00:20.636 2019-02-01 00:04:52.058   \n",
       "183406           706 2019-02-01 00:04:40.616 2019-02-01 00:16:27.080   \n",
       "183407           480 2019-02-01 00:04:49.724 2019-02-01 00:12:50.034   \n",
       "183410           139 2019-02-01 00:05:34.360 2019-02-01 00:07:54.287   \n",
       "183408           313 2019-02-01 00:05:34.744 2019-02-01 00:10:48.502   \n",
       "\n",
       "        start_station_id                                start_station_name  \\\n",
       "183411              24.0                             Spear St at Folsom St   \n",
       "183406             138.0                            Jersey St at Church St   \n",
       "183407              27.0                           Beale St at Harrison St   \n",
       "183410             220.0                       San Pablo Ave at MLK Jr Way   \n",
       "183408              21.0  Montgomery St BART Station (Market St at 2nd St)   \n",
       "\n",
       "        start_station_latitude  start_station_longitude  end_station_id  \\\n",
       "183411               37.789677              -122.390428            37.0   \n",
       "183406               37.750900              -122.427411            78.0   \n",
       "183407               37.788059              -122.391865           324.0   \n",
       "183410               37.811351              -122.273422           216.0   \n",
       "183408               37.789625              -122.400811            66.0   \n",
       "\n",
       "                           end_station_name  end_station_latitude  \\\n",
       "183411                  2nd St at Folsom St             37.785000   \n",
       "183406                  Folsom St at 9th St             37.773717   \n",
       "183407  Union Square (Powell St at Post St)             37.788300   \n",
       "183410             San Pablo Ave at 27th St             37.817827   \n",
       "183408                3rd St at Townsend St             37.778742   \n",
       "\n",
       "        end_station_longitude  bike_id   user_type  member_birth_year  \\\n",
       "183411            -122.395936     1057  Subscriber               1989   \n",
       "183406            -122.411647     5017  Subscriber               1988   \n",
       "183407            -122.408531     4832  Subscriber               1996   \n",
       "183410            -122.275698     5095  Subscriber               1988   \n",
       "183408            -122.392741     4960  Subscriber               1984   \n",
       "\n",
       "       member_gender bike_share_for_all_trip  age  age_slab  \n",
       "183411          Male                      No   32  Above 60  \n",
       "183406          Male                      No   33  Above 60  \n",
       "183407          Male                      No   25  Above 60  \n",
       "183410          Male                      No   33  Above 60  \n",
       "183408          Male                      No   37  Above 60  "
      ]
     },
     "execution_count": 26,
     "metadata": {},
     "output_type": "execute_result"
    }
   ],
   "source": [
    "df.head()"
   ]
  },
  {
   "cell_type": "markdown",
   "metadata": {
    "papermill": {
     "duration": 0.055954,
     "end_time": "2021-06-03T12:34:05.492707",
     "exception": false,
     "start_time": "2021-06-03T12:34:05.436753",
     "status": "completed"
    },
    "tags": []
   },
   "source": [
    "<h3 style = \"font-family: Comic Sans MS;background-color:#ef9c48\t\"> Inferences: </h3>\n",
    "\n",
    "* We can see that a new column of **age_slab** has been added to the dataset."
   ]
  },
  {
   "cell_type": "code",
   "execution_count": 27,
   "metadata": {
    "execution": {
     "iopub.execute_input": "2021-06-03T12:34:05.652144Z",
     "iopub.status.busy": "2021-06-03T12:34:05.636803Z",
     "iopub.status.idle": "2021-06-03T12:34:05.807428Z",
     "shell.execute_reply": "2021-06-03T12:34:05.806916Z",
     "shell.execute_reply.started": "2021-06-03T11:46:12.313145Z"
    },
    "papermill": {
     "duration": 0.258514,
     "end_time": "2021-06-03T12:34:05.807573",
     "exception": false,
     "start_time": "2021-06-03T12:34:05.549059",
     "status": "completed"
    },
    "tags": []
   },
   "outputs": [
    {
     "data": {
      "image/png": "[encoded data removed]",
      "text/plain": [
       "<Figure size 1152x576 with 1 Axes>"
      ]
     },
     "metadata": {},
     "output_type": "display_data"
    }
   ],
   "source": [
    "plt.figure(figsize=[16,8])\n",
    "plt.pie(df['user_type'].value_counts(),labels = df['user_type'].value_counts().index,autopct='%1.1f%%')\n",
    "my_circle=plt.Circle( (0,0), 0.5, color='white')\n",
    "p=plt.gcf()\n",
    "p.gca().add_artist(my_circle)\n",
    "plt.title('Percentage of User Types')\n",
    "plt.show()"
   ]
  },
  {
   "cell_type": "code",
   "execution_count": 28,
   "metadata": {
    "execution": {
     "iopub.execute_input": "2021-06-03T12:34:05.929027Z",
     "iopub.status.busy": "2021-06-03T12:34:05.928334Z",
     "iopub.status.idle": "2021-06-03T12:34:06.356254Z",
     "shell.execute_reply": "2021-06-03T12:34:06.355601Z",
     "shell.execute_reply.started": "2021-06-03T11:46:12.511810Z"
    },
    "papermill": {
     "duration": 0.491413,
     "end_time": "2021-06-03T12:34:06.356419",
     "exception": false,
     "start_time": "2021-06-03T12:34:05.865006",
     "status": "completed"
    },
    "tags": []
   },
   "outputs": [
    {
     "data": {
      "text/plain": [
       "Text(0.5, 1.0, 'Age Distribution ')"
      ]
     },
     "execution_count": 28,
     "metadata": {},
     "output_type": "execute_result"
    },
    {
     "data": {
      "image/png": "[encoded data removed]",
      "text/plain": [
       "<Figure size 1152x576 with 1 Axes>"
      ]
     },
     "metadata": {
      "needs_background": "light"
     },
     "output_type": "display_data"
    }
   ],
   "source": [
    "plt.figure(figsize=[16,8])\n",
    "sns.boxplot(x='age',y='user_type',data=df,palette='Oranges')\n",
    "plt.title('Age Distribution ')"
   ]
  },
  {
   "cell_type": "markdown",
   "metadata": {
    "papermill": {
     "duration": 0.059542,
     "end_time": "2021-06-03T12:34:06.474926",
     "exception": false,
     "start_time": "2021-06-03T12:34:06.415384",
     "status": "completed"
    },
    "tags": []
   },
   "source": [
    "**Removing the outliers**"
   ]
  },
  {
   "cell_type": "code",
   "execution_count": 29,
   "metadata": {
    "execution": {
     "iopub.execute_input": "2021-06-03T12:34:06.598537Z",
     "iopub.status.busy": "2021-06-03T12:34:06.597846Z",
     "iopub.status.idle": "2021-06-03T12:34:06.615077Z",
     "shell.execute_reply": "2021-06-03T12:34:06.614502Z",
     "shell.execute_reply.started": "2021-06-03T11:46:12.809690Z"
    },
    "papermill": {
     "duration": 0.081394,
     "end_time": "2021-06-03T12:34:06.615215",
     "exception": false,
     "start_time": "2021-06-03T12:34:06.533821",
     "status": "completed"
    },
    "tags": []
   },
   "outputs": [],
   "source": [
    "df = df[df['age']<100]"
   ]
  },
  {
   "cell_type": "code",
   "execution_count": 30,
   "metadata": {
    "execution": {
     "iopub.execute_input": "2021-06-03T12:34:06.739666Z",
     "iopub.status.busy": "2021-06-03T12:34:06.739009Z",
     "iopub.status.idle": "2021-06-03T12:34:07.040937Z",
     "shell.execute_reply": "2021-06-03T12:34:07.039949Z",
     "shell.execute_reply.started": "2021-06-03T11:46:12.829552Z"
    },
    "papermill": {
     "duration": 0.366994,
     "end_time": "2021-06-03T12:34:07.041115",
     "exception": false,
     "start_time": "2021-06-03T12:34:06.674121",
     "status": "completed"
    },
    "tags": []
   },
   "outputs": [
    {
     "data": {
      "text/plain": [
       "Text(0.5, 1.0, 'Age Distribution ')"
      ]
     },
     "execution_count": 30,
     "metadata": {},
     "output_type": "execute_result"
    },
    {
     "data": {
      "image/png": "[encoded data removed]",
      "text/plain": [
       "<Figure size 1152x576 with 1 Axes>"
      ]
     },
     "metadata": {
      "needs_background": "light"
     },
     "output_type": "display_data"
    }
   ],
   "source": [
    "plt.figure(figsize=[16,8])\n",
    "sns.boxplot(x='age',y='user_type',data=df,palette='Oranges')\n",
    "plt.title('Age Distribution ')"
   ]
  },
  {
   "cell_type": "code",
   "execution_count": 31,
   "metadata": {
    "execution": {
     "iopub.execute_input": "2021-06-03T12:34:07.183374Z",
     "iopub.status.busy": "2021-06-03T12:34:07.167288Z",
     "iopub.status.idle": "2021-06-03T12:34:07.188917Z",
     "shell.execute_reply": "2021-06-03T12:34:07.188253Z",
     "shell.execute_reply.started": "2021-06-03T11:46:13.129641Z"
    },
    "papermill": {
     "duration": 0.086694,
     "end_time": "2021-06-03T12:34:07.189053",
     "exception": false,
     "start_time": "2021-06-03T12:34:07.102359",
     "status": "completed"
    },
    "tags": []
   },
   "outputs": [
    {
     "data": {
      "text/plain": [
       "183411   2019-02-01 00:00:20.636\n",
       "183406   2019-02-01 00:04:40.616\n",
       "183407   2019-02-01 00:04:49.724\n",
       "183410   2019-02-01 00:05:34.360\n",
       "183408   2019-02-01 00:05:34.744\n",
       "                   ...          \n",
       "6        2019-02-28 23:55:35.104\n",
       "14       2019-02-28 23:56:26.848\n",
       "11       2019-02-28 23:56:55.540\n",
       "10       2019-02-28 23:57:57.211\n",
       "15       2019-02-28 23:59:18.548\n",
       "Name: start_time, Length: 174877, dtype: datetime64[ns]"
      ]
     },
     "execution_count": 31,
     "metadata": {},
     "output_type": "execute_result"
    }
   ],
   "source": [
    "pd.to_datetime(df['start_time'])"
   ]
  },
  {
   "cell_type": "code",
   "execution_count": 32,
   "metadata": {
    "execution": {
     "iopub.execute_input": "2021-06-03T12:34:07.314158Z",
     "iopub.status.busy": "2021-06-03T12:34:07.313538Z",
     "iopub.status.idle": "2021-06-03T12:34:07.335433Z",
     "shell.execute_reply": "2021-06-03T12:34:07.334884Z",
     "shell.execute_reply.started": "2021-06-03T11:46:13.152167Z"
    },
    "papermill": {
     "duration": 0.086257,
     "end_time": "2021-06-03T12:34:07.335591",
     "exception": false,
     "start_time": "2021-06-03T12:34:07.249334",
     "status": "completed"
    },
    "tags": []
   },
   "outputs": [],
   "source": [
    "df['day']=df['start_time'].dt.weekday"
   ]
  },
  {
   "cell_type": "markdown",
   "metadata": {
    "papermill": {
     "duration": 0.05941,
     "end_time": "2021-06-03T12:34:07.455244",
     "exception": false,
     "start_time": "2021-06-03T12:34:07.395834",
     "status": "completed"
    },
    "tags": []
   },
   "source": [
    "<h3 style = \"font-family: Comic Sans MS;background-color:#ef9c48\t\"> Inferences: </h3>\n",
    "\n",
    "* Let us try to understand if there's a particular day where the bikes are rented the most.\n",
    "* My guess here would be that the number might be high either on **weekends** for short trips or hikes or for the **weekdays** for daily commute during **office**.\n",
    "* Let us check it out!"
   ]
  },
  {
   "cell_type": "code",
   "execution_count": 33,
   "metadata": {
    "execution": {
     "iopub.execute_input": "2021-06-03T12:34:07.579858Z",
     "iopub.status.busy": "2021-06-03T12:34:07.579144Z",
     "iopub.status.idle": "2021-06-03T12:34:07.586987Z",
     "shell.execute_reply": "2021-06-03T12:34:07.586384Z",
     "shell.execute_reply.started": "2021-06-03T11:46:13.211356Z"
    },
    "papermill": {
     "duration": 0.072016,
     "end_time": "2021-06-03T12:34:07.587128",
     "exception": false,
     "start_time": "2021-06-03T12:34:07.515112",
     "status": "completed"
    },
    "tags": []
   },
   "outputs": [
    {
     "data": {
      "text/plain": [
       "3    33705\n",
       "1    30567\n",
       "2    28415\n",
       "4    27645\n",
       "0    25630\n",
       "6    14504\n",
       "5    14411\n",
       "Name: day, dtype: int64"
      ]
     },
     "execution_count": 33,
     "metadata": {},
     "output_type": "execute_result"
    }
   ],
   "source": [
    "df['day'].value_counts()"
   ]
  },
  {
   "cell_type": "code",
   "execution_count": 34,
   "metadata": {
    "execution": {
     "iopub.execute_input": "2021-06-03T12:34:07.712998Z",
     "iopub.status.busy": "2021-06-03T12:34:07.712360Z",
     "iopub.status.idle": "2021-06-03T12:34:07.721534Z",
     "shell.execute_reply": "2021-06-03T12:34:07.721998Z",
     "shell.execute_reply.started": "2021-06-03T11:46:13.226309Z"
    },
    "papermill": {
     "duration": 0.075035,
     "end_time": "2021-06-03T12:34:07.722191",
     "exception": false,
     "start_time": "2021-06-03T12:34:07.647156",
     "status": "completed"
    },
    "tags": []
   },
   "outputs": [],
   "source": [
    "weekDays = {0:\"Monday\",1:\"Tuesday\",2:\"Wednesday\",3:\"Thursday\",4:\"Friday\",5:\"Saturday\",6:\"Sunday\"}\n",
    "df['day'] = df['day'].map(weekDays)"
   ]
  },
  {
   "cell_type": "code",
   "execution_count": 35,
   "metadata": {
    "execution": {
     "iopub.execute_input": "2021-06-03T12:34:07.890097Z",
     "iopub.status.busy": "2021-06-03T12:34:07.887535Z",
     "iopub.status.idle": "2021-06-03T12:34:07.894372Z",
     "shell.execute_reply": "2021-06-03T12:34:07.893744Z",
     "shell.execute_reply.started": "2021-06-03T11:46:13.242020Z"
    },
    "papermill": {
     "duration": 0.111746,
     "end_time": "2021-06-03T12:34:07.894506",
     "exception": false,
     "start_time": "2021-06-03T12:34:07.782760",
     "status": "completed"
    },
    "tags": []
   },
   "outputs": [
    {
     "data": {
      "text/plain": [
       "Thursday     33705\n",
       "Tuesday      30567\n",
       "Wednesday    28415\n",
       "Friday       27645\n",
       "Monday       25630\n",
       "Sunday       14504\n",
       "Saturday     14411\n",
       "Name: day, dtype: int64"
      ]
     },
     "execution_count": 35,
     "metadata": {},
     "output_type": "execute_result"
    }
   ],
   "source": [
    "df['day'].value_counts()"
   ]
  },
  {
   "cell_type": "markdown",
   "metadata": {
    "papermill": {
     "duration": 0.06041,
     "end_time": "2021-06-03T12:34:08.016555",
     "exception": false,
     "start_time": "2021-06-03T12:34:07.956145",
     "status": "completed"
    },
    "tags": []
   },
   "source": [
    "<h3 style = \"font-family: Comic Sans MS;background-color:#ef9c48\t\"> Inferences: </h3>\n",
    "\n",
    "* We have converted the weekdays of the data into the words which would help us in better presentation and visualization of the data. "
   ]
  },
  {
   "cell_type": "markdown",
   "metadata": {},
   "source": [
    "**Which user type rents the bike most and on which days?**"
   ]
  },
  {
   "cell_type": "code",
   "execution_count": 36,
   "metadata": {
    "execution": {
     "iopub.execute_input": "2021-06-03T12:34:08.180483Z",
     "iopub.status.busy": "2021-06-03T12:34:08.143861Z",
     "iopub.status.idle": "2021-06-03T12:34:08.702978Z",
     "shell.execute_reply": "2021-06-03T12:34:08.703436Z",
     "shell.execute_reply.started": "2021-06-03T12:26:48.051980Z"
    },
    "papermill": {
     "duration": 0.626136,
     "end_time": "2021-06-03T12:34:08.703618",
     "exception": false,
     "start_time": "2021-06-03T12:34:08.077482",
     "status": "completed"
    },
    "tags": []
   },
   "outputs": [
    {
     "data": {
      "text/plain": [
       "Text(0.5, 1.0, 'Bike hiring on different days of the week')"
      ]
     },
     "execution_count": 36,
     "metadata": {},
     "output_type": "execute_result"
    },
    {
     "data": {
      "image/png": "[encoded data removed]",
      "text/plain": [
       "<Figure size 864x432 with 1 Axes>"
      ]
     },
     "metadata": {
      "needs_background": "light"
     },
     "output_type": "display_data"
    }
   ],
   "source": [
    "plt.figure(figsize=(12,6))\n",
    "k=['Monday','Tuesday','Wednesday','Thursday','Friday','Saturday','Sunday']\n",
    "df['day']= sorted(df['day'], key=k.index)\n",
    "sns.countplot(df['day'], hue = df['user_type'], palette = 'Oranges')\n",
    "plt.title(\"Bike hiring on different days of the week\", fontweight = 'bold', fontsize = 16)"
   ]
  },
  {
   "cell_type": "markdown",
   "metadata": {
    "papermill": {
     "duration": 0.062128,
     "end_time": "2021-06-03T12:34:08.827684",
     "exception": false,
     "start_time": "2021-06-03T12:34:08.765556",
     "status": "completed"
    },
    "tags": []
   },
   "source": [
    "<h3 style = \"font-family: Comic Sans MS;background-color:#ef9c48\t\"> Inferences: </h3>\n",
    "\n",
    "* It is interesting to note that the number of people hiring on **weekdays** is significantly higher than the one's hiring on the **weekends**.\n",
    "* This might probably be due to the daily commute to office.\n",
    "* Another thing to notice is that the number of **subscribers** of the bikes are quite high as compared to the **customers**."
   ]
  },
  {
   "cell_type": "code",
   "execution_count": 37,
   "metadata": {
    "execution": {
     "iopub.execute_input": "2021-06-03T12:34:08.997889Z",
     "iopub.status.busy": "2021-06-03T12:34:08.996841Z",
     "iopub.status.idle": "2021-06-03T12:34:09.002160Z",
     "shell.execute_reply": "2021-06-03T12:34:09.001551Z",
     "shell.execute_reply.started": "2021-06-03T11:46:13.871133Z"
    },
    "papermill": {
     "duration": 0.11176,
     "end_time": "2021-06-03T12:34:09.002324",
     "exception": false,
     "start_time": "2021-06-03T12:34:08.890564",
     "status": "completed"
    },
    "tags": []
   },
   "outputs": [],
   "source": [
    "top10 = df['start_station_name'].value_counts().head(10)"
   ]
  },
  {
   "cell_type": "code",
   "execution_count": 38,
   "metadata": {
    "execution": {
     "iopub.execute_input": "2021-06-03T12:34:09.133612Z",
     "iopub.status.busy": "2021-06-03T12:34:09.132725Z",
     "iopub.status.idle": "2021-06-03T12:34:09.136519Z",
     "shell.execute_reply": "2021-06-03T12:34:09.136954Z",
     "shell.execute_reply.started": "2021-06-03T11:46:13.922000Z"
    },
    "papermill": {
     "duration": 0.072545,
     "end_time": "2021-06-03T12:34:09.137131",
     "exception": false,
     "start_time": "2021-06-03T12:34:09.064586",
     "status": "completed"
    },
    "tags": []
   },
   "outputs": [
    {
     "data": {
      "text/plain": [
       "Market St at 10th St                                         3649\n",
       "San Francisco Caltrain Station 2  (Townsend St at 4th St)    3406\n",
       "Berry St at 4th St                                           2951\n",
       "Montgomery St BART Station (Market St at 2nd St)             2709\n",
       "Powell St BART Station (Market St at 4th St)                 2620\n",
       "San Francisco Caltrain (Townsend St at 4th St)               2572\n",
       "San Francisco Ferry Building (Harry Bridges Plaza)           2540\n",
       "Howard St at Beale St                                        2216\n",
       "Steuart St at Market St                                      2191\n",
       "Powell St BART Station (Market St at 5th St)                 2144\n",
       "Name: start_station_name, dtype: int64"
      ]
     },
     "execution_count": 38,
     "metadata": {},
     "output_type": "execute_result"
    }
   ],
   "source": [
    "top10"
   ]
  },
  {
   "cell_type": "code",
   "execution_count": 39,
   "metadata": {
    "execution": {
     "iopub.execute_input": "2021-06-03T12:34:09.266433Z",
     "iopub.status.busy": "2021-06-03T12:34:09.265765Z",
     "iopub.status.idle": "2021-06-03T12:34:09.272544Z",
     "shell.execute_reply": "2021-06-03T12:34:09.271844Z",
     "shell.execute_reply.started": "2021-06-03T11:46:13.939109Z"
    },
    "papermill": {
     "duration": 0.073203,
     "end_time": "2021-06-03T12:34:09.272693",
     "exception": false,
     "start_time": "2021-06-03T12:34:09.199490",
     "status": "completed"
    },
    "tags": []
   },
   "outputs": [],
   "source": [
    "import squarify as sq"
   ]
  },
  {
   "cell_type": "code",
   "execution_count": 40,
   "metadata": {
    "execution": {
     "iopub.execute_input": "2021-06-03T12:34:09.422725Z",
     "iopub.status.busy": "2021-06-03T12:34:09.422044Z",
     "iopub.status.idle": "2021-06-03T12:34:09.633785Z",
     "shell.execute_reply": "2021-06-03T12:34:09.633226Z",
     "shell.execute_reply.started": "2021-06-03T12:31:59.443178Z"
    },
    "papermill": {
     "duration": 0.298982,
     "end_time": "2021-06-03T12:34:09.633937",
     "exception": false,
     "start_time": "2021-06-03T12:34:09.334955",
     "status": "completed"
    },
    "tags": []
   },
   "outputs": [
    {
     "data": {
      "text/plain": [
       "Text(0.5, 1.0, 'Top 10 Hiring Points')"
      ]
     },
     "execution_count": 40,
     "metadata": {},
     "output_type": "execute_result"
    },
    {
     "data": {
      "image/png": "[encoded data removed]",
      "text/plain": [
       "<Figure size 1152x864 with 1 Axes>"
      ]
     },
     "metadata": {
      "needs_background": "light"
     },
     "output_type": "display_data"
    }
   ],
   "source": [
    "plt.figure(figsize=[16,12])\n",
    "label= [ 'Market St at 10th St (3649)',\n",
    "'San Francisco Caltrain Station 2 (3406)',    \n",
    "'Berry St at 4th St (2951)',\n",
    "'Montgomery St BART Station (2709)',       \n",
    "'Powell St BART Station (2620)',           \n",
    "'San Francisco Caltrain (2572)',         \n",
    "'San Francisco Ferry Building (2540)',        \n",
    "'Howard St at Beale St (2216)',                                        \n",
    "'Steuart St at Market St (2191)',                                      \n",
    "'Powell St BART Station (2144)']  \n",
    "sq.plot(top10,label=label,edgecolor=\"white\",alpha=0.5)\n",
    "plt.title('Top 10 Hiring Points', fontsize = 16, fontweight = 'bold')\n"
   ]
  },
  {
   "cell_type": "code",
   "execution_count": 41,
   "metadata": {
    "execution": {
     "iopub.execute_input": "2021-06-03T12:34:09.770738Z",
     "iopub.status.busy": "2021-06-03T12:34:09.769686Z",
     "iopub.status.idle": "2021-06-03T12:34:09.773016Z",
     "shell.execute_reply": "2021-06-03T12:34:09.772480Z",
     "shell.execute_reply.started": "2021-06-03T11:46:14.379622Z"
    },
    "papermill": {
     "duration": 0.074624,
     "end_time": "2021-06-03T12:34:09.773151",
     "exception": false,
     "start_time": "2021-06-03T12:34:09.698527",
     "status": "completed"
    },
    "tags": []
   },
   "outputs": [],
   "source": [
    "import math\n",
    "def distance(origin, destination):\n",
    "    \"\"\"Return the origin,destination of the distance.\"\"\"\n",
    "    lat1, lon1 = origin\n",
    "    lat2, lon2 = destination\n",
    "    radius = 6371 # km\n",
    "    dlat = math.radians(lat2-lat1)\n",
    "    dlon = math.radians(lon2-lon1)\n",
    "    a = math.sin(dlat/2) * math.sin(dlat/2) + math.cos(math.radians(lat1)) \\\n",
    "* math.cos(math.radians(lat2)) * math.sin(dlon/2) * math.sin(dlon/2)\n",
    "    c = 2 * math.atan2(math.sqrt(a), math.sqrt(1-a))\n",
    "    d = radius * c\n",
    "    return d"
   ]
  },
  {
   "cell_type": "code",
   "execution_count": 42,
   "metadata": {
    "execution": {
     "iopub.execute_input": "2021-06-03T12:34:09.907923Z",
     "iopub.status.busy": "2021-06-03T12:34:09.907254Z",
     "iopub.status.idle": "2021-06-03T12:34:17.672181Z",
     "shell.execute_reply": "2021-06-03T12:34:17.671368Z",
     "shell.execute_reply.started": "2021-06-03T11:46:14.388607Z"
    },
    "papermill": {
     "duration": 7.834283,
     "end_time": "2021-06-03T12:34:17.672343",
     "exception": false,
     "start_time": "2021-06-03T12:34:09.838060",
     "status": "completed"
    },
    "tags": []
   },
   "outputs": [],
   "source": [
    "\n",
    "df['distance_travelled_km'] = df.apply(lambda i: distance([i['start_station_longitude'],i['start_station_latitude']],\n",
    "                            [i['end_station_longitude'],i['end_station_latitude']]), axis=1)"
   ]
  },
  {
   "cell_type": "code",
   "execution_count": 43,
   "metadata": {
    "execution": {
     "iopub.execute_input": "2021-06-03T12:34:17.828325Z",
     "iopub.status.busy": "2021-06-03T12:34:17.827289Z",
     "iopub.status.idle": "2021-06-03T12:34:17.833643Z",
     "shell.execute_reply": "2021-06-03T12:34:17.832689Z",
     "shell.execute_reply.started": "2021-06-03T11:46:21.817335Z"
    },
    "papermill": {
     "duration": 0.096761,
     "end_time": "2021-06-03T12:34:17.833872",
     "exception": false,
     "start_time": "2021-06-03T12:34:17.737111",
     "status": "completed"
    },
    "tags": []
   },
   "outputs": [
    {
     "data": {
      "text/html": [
       "<div>\n",
       "<style scoped>\n",
       "    .dataframe tbody tr th:only-of-type {\n",
       "        vertical-align: middle;\n",
       "    }\n",
       "\n",
       "    .dataframe tbody tr th {\n",
       "        vertical-align: top;\n",
       "    }\n",
       "\n",
       "    .dataframe thead th {\n",
       "        text-align: right;\n",
       "    }\n",
       "</style>\n",
       "<table border=\"1\" class=\"dataframe\">\n",
       "  <thead>\n",
       "    <tr style=\"text-align: right;\">\n",
       "      <th></th>\n",
       "      <th>duration_sec</th>\n",
       "      <th>start_time</th>\n",
       "      <th>end_time</th>\n",
       "      <th>start_station_id</th>\n",
       "      <th>start_station_name</th>\n",
       "      <th>start_station_latitude</th>\n",
       "      <th>start_station_longitude</th>\n",
       "      <th>end_station_id</th>\n",
       "      <th>end_station_name</th>\n",
       "      <th>end_station_latitude</th>\n",
       "      <th>end_station_longitude</th>\n",
       "      <th>bike_id</th>\n",
       "      <th>user_type</th>\n",
       "      <th>member_birth_year</th>\n",
       "      <th>member_gender</th>\n",
       "      <th>bike_share_for_all_trip</th>\n",
       "      <th>age</th>\n",
       "      <th>age_slab</th>\n",
       "      <th>day</th>\n",
       "      <th>distance_travelled_km</th>\n",
       "    </tr>\n",
       "  </thead>\n",
       "  <tbody>\n",
       "    <tr>\n",
       "      <th>183411</th>\n",
       "      <td>271</td>\n",
       "      <td>2019-02-01 00:00:20.636</td>\n",
       "      <td>2019-02-01 00:04:52.058</td>\n",
       "      <td>24.0</td>\n",
       "      <td>Spear St at Folsom St</td>\n",
       "      <td>37.789677</td>\n",
       "      <td>-122.390428</td>\n",
       "      <td>37.0</td>\n",
       "      <td>2nd St at Folsom St</td>\n",
       "      <td>37.785000</td>\n",
       "      <td>-122.395936</td>\n",
       "      <td>1057</td>\n",
       "      <td>Subscriber</td>\n",
       "      <td>1989</td>\n",
       "      <td>Male</td>\n",
       "      <td>No</td>\n",
       "      <td>32</td>\n",
       "      <td>Above 60</td>\n",
       "      <td>Monday</td>\n",
       "      <td>0.672764</td>\n",
       "    </tr>\n",
       "    <tr>\n",
       "      <th>183406</th>\n",
       "      <td>706</td>\n",
       "      <td>2019-02-01 00:04:40.616</td>\n",
       "      <td>2019-02-01 00:16:27.080</td>\n",
       "      <td>138.0</td>\n",
       "      <td>Jersey St at Church St</td>\n",
       "      <td>37.750900</td>\n",
       "      <td>-122.427411</td>\n",
       "      <td>78.0</td>\n",
       "      <td>Folsom St at 9th St</td>\n",
       "      <td>37.773717</td>\n",
       "      <td>-122.411647</td>\n",
       "      <td>5017</td>\n",
       "      <td>Subscriber</td>\n",
       "      <td>1988</td>\n",
       "      <td>Male</td>\n",
       "      <td>No</td>\n",
       "      <td>33</td>\n",
       "      <td>Above 60</td>\n",
       "      <td>Monday</td>\n",
       "      <td>2.218772</td>\n",
       "    </tr>\n",
       "    <tr>\n",
       "      <th>183407</th>\n",
       "      <td>480</td>\n",
       "      <td>2019-02-01 00:04:49.724</td>\n",
       "      <td>2019-02-01 00:12:50.034</td>\n",
       "      <td>27.0</td>\n",
       "      <td>Beale St at Harrison St</td>\n",
       "      <td>37.788059</td>\n",
       "      <td>-122.391865</td>\n",
       "      <td>324.0</td>\n",
       "      <td>Union Square (Powell St at Post St)</td>\n",
       "      <td>37.788300</td>\n",
       "      <td>-122.408531</td>\n",
       "      <td>4832</td>\n",
       "      <td>Subscriber</td>\n",
       "      <td>1996</td>\n",
       "      <td>Male</td>\n",
       "      <td>No</td>\n",
       "      <td>25</td>\n",
       "      <td>Above 60</td>\n",
       "      <td>Monday</td>\n",
       "      <td>1.853220</td>\n",
       "    </tr>\n",
       "    <tr>\n",
       "      <th>183410</th>\n",
       "      <td>139</td>\n",
       "      <td>2019-02-01 00:05:34.360</td>\n",
       "      <td>2019-02-01 00:07:54.287</td>\n",
       "      <td>220.0</td>\n",
       "      <td>San Pablo Ave at MLK Jr Way</td>\n",
       "      <td>37.811351</td>\n",
       "      <td>-122.273422</td>\n",
       "      <td>216.0</td>\n",
       "      <td>San Pablo Ave at 27th St</td>\n",
       "      <td>37.817827</td>\n",
       "      <td>-122.275698</td>\n",
       "      <td>5095</td>\n",
       "      <td>Subscriber</td>\n",
       "      <td>1988</td>\n",
       "      <td>Male</td>\n",
       "      <td>No</td>\n",
       "      <td>33</td>\n",
       "      <td>Above 60</td>\n",
       "      <td>Monday</td>\n",
       "      <td>0.460297</td>\n",
       "    </tr>\n",
       "    <tr>\n",
       "      <th>183408</th>\n",
       "      <td>313</td>\n",
       "      <td>2019-02-01 00:05:34.744</td>\n",
       "      <td>2019-02-01 00:10:48.502</td>\n",
       "      <td>21.0</td>\n",
       "      <td>Montgomery St BART Station (Market St at 2nd St)</td>\n",
       "      <td>37.789625</td>\n",
       "      <td>-122.400811</td>\n",
       "      <td>66.0</td>\n",
       "      <td>3rd St at Townsend St</td>\n",
       "      <td>37.778742</td>\n",
       "      <td>-122.392741</td>\n",
       "      <td>4960</td>\n",
       "      <td>Subscriber</td>\n",
       "      <td>1984</td>\n",
       "      <td>Male</td>\n",
       "      <td>No</td>\n",
       "      <td>37</td>\n",
       "      <td>Above 60</td>\n",
       "      <td>Monday</td>\n",
       "      <td>1.107112</td>\n",
       "    </tr>\n",
       "  </tbody>\n",
       "</table>\n",
       "</div>"
      ],
      "text/plain": [
       "        duration_sec              start_time                end_time  \\\n",
       "183411           271 2019-02-01 00:00:20.636 2019-02-01 00:04:52.058   \n",
       "183406           706 2019-02-01 00:04:40.616 2019-02-01 00:16:27.080   \n",
       "183407           480 2019-02-01 00:04:49.724 2019-02-01 00:12:50.034   \n",
       "183410           139 2019-02-01 00:05:34.360 2019-02-01 00:07:54.287   \n",
       "183408           313 2019-02-01 00:05:34.744 2019-02-01 00:10:48.502   \n",
       "\n",
       "        start_station_id                                start_station_name  \\\n",
       "183411              24.0                             Spear St at Folsom St   \n",
       "183406             138.0                            Jersey St at Church St   \n",
       "183407              27.0                           Beale St at Harrison St   \n",
       "183410             220.0                       San Pablo Ave at MLK Jr Way   \n",
       "183408              21.0  Montgomery St BART Station (Market St at 2nd St)   \n",
       "\n",
       "        start_station_latitude  start_station_longitude  end_station_id  \\\n",
       "183411               37.789677              -122.390428            37.0   \n",
       "183406               37.750900              -122.427411            78.0   \n",
       "183407               37.788059              -122.391865           324.0   \n",
       "183410               37.811351              -122.273422           216.0   \n",
       "183408               37.789625              -122.400811            66.0   \n",
       "\n",
       "                           end_station_name  end_station_latitude  \\\n",
       "183411                  2nd St at Folsom St             37.785000   \n",
       "183406                  Folsom St at 9th St             37.773717   \n",
       "183407  Union Square (Powell St at Post St)             37.788300   \n",
       "183410             San Pablo Ave at 27th St             37.817827   \n",
       "183408                3rd St at Townsend St             37.778742   \n",
       "\n",
       "        end_station_longitude  bike_id   user_type  member_birth_year  \\\n",
       "183411            -122.395936     1057  Subscriber               1989   \n",
       "183406            -122.411647     5017  Subscriber               1988   \n",
       "183407            -122.408531     4832  Subscriber               1996   \n",
       "183410            -122.275698     5095  Subscriber               1988   \n",
       "183408            -122.392741     4960  Subscriber               1984   \n",
       "\n",
       "       member_gender bike_share_for_all_trip  age  age_slab     day  \\\n",
       "183411          Male                      No   32  Above 60  Monday   \n",
       "183406          Male                      No   33  Above 60  Monday   \n",
       "183407          Male                      No   25  Above 60  Monday   \n",
       "183410          Male                      No   33  Above 60  Monday   \n",
       "183408          Male                      No   37  Above 60  Monday   \n",
       "\n",
       "        distance_travelled_km  \n",
       "183411               0.672764  \n",
       "183406               2.218772  \n",
       "183407               1.853220  \n",
       "183410               0.460297  \n",
       "183408               1.107112  "
      ]
     },
     "execution_count": 43,
     "metadata": {},
     "output_type": "execute_result"
    }
   ],
   "source": [
    "df.head()"
   ]
  },
  {
   "cell_type": "markdown",
   "metadata": {},
   "source": [
    "**What is the distance travelled with respect to gender?**"
   ]
  },
  {
   "cell_type": "code",
   "execution_count": 44,
   "metadata": {
    "execution": {
     "iopub.execute_input": "2021-06-03T12:34:17.976202Z",
     "iopub.status.busy": "2021-06-03T12:34:17.975173Z",
     "iopub.status.idle": "2021-06-03T12:34:18.304857Z",
     "shell.execute_reply": "2021-06-03T12:34:18.304138Z",
     "shell.execute_reply.started": "2021-06-03T12:32:32.736016Z"
    },
    "papermill": {
     "duration": 0.403041,
     "end_time": "2021-06-03T12:34:18.305049",
     "exception": false,
     "start_time": "2021-06-03T12:34:17.902008",
     "status": "completed"
    },
    "tags": []
   },
   "outputs": [
    {
     "data": {
      "text/plain": [
       "Text(0.5, 1.0, 'Age Distribution')"
      ]
     },
     "execution_count": 44,
     "metadata": {},
     "output_type": "execute_result"
    },
    {
     "data": {
      "image/png": "[encoded data removed]",
      "text/plain": [
       "<Figure size 1152x576 with 1 Axes>"
      ]
     },
     "metadata": {
      "needs_background": "light"
     },
     "output_type": "display_data"
    }
   ],
   "source": [
    "plt.figure(figsize=[16,8])\n",
    "sns.boxplot(x='distance_travelled_km',y='member_gender',data=df,palette='Oranges')\n",
    "plt.title('Age Distribution', fontweight = 'bold', fontsize = 16)"
   ]
  },
  {
   "cell_type": "code",
   "execution_count": 45,
   "metadata": {
    "execution": {
     "iopub.execute_input": "2021-06-03T12:34:18.447151Z",
     "iopub.status.busy": "2021-06-03T12:34:18.445578Z",
     "iopub.status.idle": "2021-06-03T12:34:18.474784Z",
     "shell.execute_reply": "2021-06-03T12:34:18.474046Z",
     "shell.execute_reply.started": "2021-06-03T11:46:22.166594Z"
    },
    "papermill": {
     "duration": 0.102704,
     "end_time": "2021-06-03T12:34:18.474932",
     "exception": false,
     "start_time": "2021-06-03T12:34:18.372228",
     "status": "completed"
    },
    "tags": []
   },
   "outputs": [],
   "source": [
    "df = df[df['distance_travelled_km'] <12.5]"
   ]
  },
  {
   "cell_type": "code",
   "execution_count": 46,
   "metadata": {
    "execution": {
     "iopub.execute_input": "2021-06-03T12:34:18.614112Z",
     "iopub.status.busy": "2021-06-03T12:34:18.613101Z",
     "iopub.status.idle": "2021-06-03T12:34:18.928232Z",
     "shell.execute_reply": "2021-06-03T12:34:18.927607Z",
     "shell.execute_reply.started": "2021-06-03T12:31:23.846523Z"
    },
    "papermill": {
     "duration": 0.387567,
     "end_time": "2021-06-03T12:34:18.928386",
     "exception": false,
     "start_time": "2021-06-03T12:34:18.540819",
     "status": "completed"
    },
    "tags": []
   },
   "outputs": [
    {
     "data": {
      "text/plain": [
       "Text(0.5, 1.0, 'Age Distribution ')"
      ]
     },
     "execution_count": 46,
     "metadata": {},
     "output_type": "execute_result"
    },
    {
     "data": {
      "image/png": "[encoded data removed]",
      "text/plain": [
       "<Figure size 1152x576 with 1 Axes>"
      ]
     },
     "metadata": {
      "needs_background": "light"
     },
     "output_type": "display_data"
    }
   ],
   "source": [
    "plt.figure(figsize=[16,8])\n",
    "sns.boxplot(x='distance_travelled_km',y='member_gender',data=df,palette='Oranges')\n",
    "plt.title('Age Distribution ', fontweight = 'bold', fontsize = 16)"
   ]
  },
  {
   "cell_type": "code",
   "execution_count": 47,
   "metadata": {
    "execution": {
     "iopub.execute_input": "2021-06-03T12:34:19.071634Z",
     "iopub.status.busy": "2021-06-03T12:34:19.070890Z",
     "iopub.status.idle": "2021-06-03T12:34:22.730766Z",
     "shell.execute_reply": "2021-06-03T12:34:22.731415Z",
     "shell.execute_reply.started": "2021-06-03T12:33:11.432298Z"
    },
    "papermill": {
     "duration": 3.734327,
     "end_time": "2021-06-03T12:34:22.731607",
     "exception": false,
     "start_time": "2021-06-03T12:34:18.997280",
     "status": "completed"
    },
    "tags": []
   },
   "outputs": [
    {
     "data": {
      "text/plain": [
       "Text(0.5, 1.0, 'Distance travelled by different age-group')"
      ]
     },
     "execution_count": 47,
     "metadata": {},
     "output_type": "execute_result"
    },
    {
     "data": {
      "image/png": "[encoded data removed]",
      "text/plain": [
       "<Figure size 1008x576 with 1 Axes>"
      ]
     },
     "metadata": {
      "needs_background": "light"
     },
     "output_type": "display_data"
    }
   ],
   "source": [
    "plt.figure(figsize=[14,8])\n",
    "sns.lineplot(x='age',y='distance_travelled_km',data=df,marker='*',color= 'orange')\n",
    "plt.title(\"Distance travelled by different age-group\", fontweight = 'bold', fontsize = 16)"
   ]
  },
  {
   "cell_type": "markdown",
   "metadata": {},
   "source": [
    "# Multivariate Exploration"
   ]
  },
  {
   "cell_type": "code",
   "execution_count": 48,
   "metadata": {
    "execution": {
     "iopub.execute_input": "2021-06-03T12:34:22.903120Z",
     "iopub.status.busy": "2021-06-03T12:34:22.902129Z",
     "iopub.status.idle": "2021-06-03T12:34:25.669142Z",
     "shell.execute_reply": "2021-06-03T12:34:25.668610Z",
     "shell.execute_reply.started": "2021-06-03T12:27:36.315075Z"
    },
    "papermill": {
     "duration": 2.865114,
     "end_time": "2021-06-03T12:34:25.669296",
     "exception": false,
     "start_time": "2021-06-03T12:34:22.804182",
     "status": "completed"
    },
    "tags": []
   },
   "outputs": [
    {
     "data": {
      "text/plain": [
       "Text(0.5, 1.0, 'Distance travelled by different age groups and gender')"
      ]
     },
     "execution_count": 48,
     "metadata": {},
     "output_type": "execute_result"
    },
    {
     "data": {
      "image/png": "[encoded data removed]",
      "text/plain": [
       "<Figure size 1008x576 with 1 Axes>"
      ]
     },
     "metadata": {
      "needs_background": "light"
     },
     "output_type": "display_data"
    }
   ],
   "source": [
    "plt.figure(figsize=[14,8])\n",
    "k=['20-30','30-40','40-50','50-60','Above 60']\n",
    "df['age_slab']= sorted(df['age_slab'], key=k.index)\n",
    "sns.lineplot(y='distance_travelled_km',x='age_slab',hue='member_gender',data=df,palette = 'Reds')\n",
    "plt.title(\"Distance travelled by different age groups and gender\", fontweight = 'bold', fontsize = 16)"
   ]
  },
  {
   "cell_type": "markdown",
   "metadata": {
    "papermill": {
     "duration": 0.073362,
     "end_time": "2021-06-03T12:34:25.816910",
     "exception": false,
     "start_time": "2021-06-03T12:34:25.743548",
     "status": "completed"
    },
    "tags": []
   },
   "source": [
    "<h3 style = \"font-family: Comic Sans MS;background-color:#ef9c48\t\"> Inferences: </h3>\n",
    "\n",
    "* **Males** travel less distance on an average as compared to **females** and **others**.\n",
    "* Average distance travelled by people of age group 30-40 is higher than that of 20-30 ffor all the three cases."
   ]
  },
  {
   "cell_type": "markdown",
   "metadata": {},
   "source": [
    "**References**\n",
    "\n",
    "https://pandas.pydata.org/pandas-docs/stable/reference/api/pandas.DataFrame.describe.html\n",
    "\n",
    "https://stackoverflow.com/questions/13021654/get-column-index-from-column-name-in-python-pandas\n",
    "\n",
    "https://www.w3schools.com/python/python_datetime.asp\n",
    "\n",
    "https://www.geeksforgeeks.org/python-pandas-dataframe-drop_duplicates/\n",
    "\n",
    "https://pandas.pydata.org/pandas-docs/stable/user_guide/io.html\n",
    "\n",
    "https://stackoverflow.com/questions/50491747/extracting-the-meaningful-information-from-the-text-column-using-python\n",
    "\n",
    "https://pandas.pydata.org/pandas-docs/stable/reference/api/pandas.DataFrame.iterrows.html\n",
    "    "
   ]
  },
  {
   "cell_type": "markdown",
   "metadata": {
    "papermill": {
     "duration": 0.071973,
     "end_time": "2021-06-03T12:34:25.962124",
     "exception": false,
     "start_time": "2021-06-03T12:34:25.890151",
     "status": "completed"
    },
    "tags": []
   },
   "source": [
    "## "
   ]
  }
 ],
 "metadata": {
  "kernelspec": {
   "display_name": "Python 3",
   "language": "python",
   "name": "python3"
  },
  "language_info": {
   "codemirror_mode": {
    "name": "ipython",
    "version": 3
   },
   "file_extension": ".py",
   "mimetype": "text/x-python",
   "name": "python",
   "nbconvert_exporter": "python",
   "pygments_lexer": "ipython3",
   "version": "3.8.5"
  },
  "papermill": {
   "default_parameters": {},
   "duration": 46.932612,
   "end_time": "2021-06-03T12:34:27.979640",
   "environment_variables": {},
   "exception": null,
   "input_path": "__notebook__.ipynb",
   "output_path": "__notebook__.ipynb",
   "parameters": {},
   "start_time": "2021-06-03T12:33:41.047028",
   "version": "2.3.3"
  }
 },
 "nbformat": 4,
 "nbformat_minor": 5
}
